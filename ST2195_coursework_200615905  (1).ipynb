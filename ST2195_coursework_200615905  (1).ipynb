{
 "cells": [
  {
   "cell_type": "code",
   "execution_count": 116,
   "metadata": {},
   "outputs": [
    {
     "name": "stdout",
     "output_type": "stream",
     "text": [
      "Requirement already satisfied: folium in /Library/Frameworks/Python.framework/Versions/3.9/lib/python3.9/site-packages (0.12.1.post1)\n",
      "Requirement already satisfied: numpy in /Library/Frameworks/Python.framework/Versions/3.9/lib/python3.9/site-packages (from folium) (1.22.3)\n",
      "Requirement already satisfied: branca>=0.3.0 in /Library/Frameworks/Python.framework/Versions/3.9/lib/python3.9/site-packages (from folium) (0.4.2)\n",
      "Requirement already satisfied: jinja2>=2.9 in /Library/Frameworks/Python.framework/Versions/3.9/lib/python3.9/site-packages (from folium) (3.0.3)\n",
      "Requirement already satisfied: requests in /Library/Frameworks/Python.framework/Versions/3.9/lib/python3.9/site-packages (from folium) (2.27.1)\n",
      "Requirement already satisfied: MarkupSafe>=2.0 in /Library/Frameworks/Python.framework/Versions/3.9/lib/python3.9/site-packages (from jinja2>=2.9->folium) (2.1.0)\n",
      "Requirement already satisfied: idna<4,>=2.5 in /Library/Frameworks/Python.framework/Versions/3.9/lib/python3.9/site-packages (from requests->folium) (3.3)\n",
      "Requirement already satisfied: certifi>=2017.4.17 in /Library/Frameworks/Python.framework/Versions/3.9/lib/python3.9/site-packages (from requests->folium) (2021.10.8)\n",
      "Requirement already satisfied: urllib3<1.27,>=1.21.1 in /Library/Frameworks/Python.framework/Versions/3.9/lib/python3.9/site-packages (from requests->folium) (1.26.8)\n",
      "Requirement already satisfied: charset-normalizer~=2.0.0 in /Library/Frameworks/Python.framework/Versions/3.9/lib/python3.9/site-packages (from requests->folium) (2.0.12)\n",
      "Collecting statsmodels\n",
      "  Downloading statsmodels-0.13.2-cp39-cp39-macosx_10_9_x86_64.whl (9.6 MB)\n",
      "\u001b[2K     \u001b[90m━━━━━━━━━━━━━━━━━━━━━━━━━━━━━━━━━━━━━━━━\u001b[0m \u001b[32m9.6/9.6 MB\u001b[0m \u001b[31m5.0 MB/s\u001b[0m eta \u001b[36m0:00:00\u001b[0m00:01\u001b[0m00:01\u001b[0mm\n",
      "\u001b[?25hRequirement already satisfied: scipy>=1.3 in /Library/Frameworks/Python.framework/Versions/3.9/lib/python3.9/site-packages (from statsmodels) (1.8.0)\n",
      "Requirement already satisfied: pandas>=0.25 in /Library/Frameworks/Python.framework/Versions/3.9/lib/python3.9/site-packages (from statsmodels) (1.4.0)\n",
      "Requirement already satisfied: numpy>=1.17 in /Library/Frameworks/Python.framework/Versions/3.9/lib/python3.9/site-packages (from statsmodels) (1.22.3)\n",
      "Requirement already satisfied: packaging>=21.3 in /Library/Frameworks/Python.framework/Versions/3.9/lib/python3.9/site-packages (from statsmodels) (21.3)\n",
      "Collecting patsy>=0.5.2\n",
      "  Downloading patsy-0.5.2-py2.py3-none-any.whl (233 kB)\n",
      "\u001b[2K     \u001b[90m━━━━━━━━━━━━━━━━━━━━━━━━━━━━━━━━━━━━━━━\u001b[0m \u001b[32m233.7/233.7 KB\u001b[0m \u001b[31m7.1 MB/s\u001b[0m eta \u001b[36m0:00:00\u001b[0m\n",
      "\u001b[?25hRequirement already satisfied: pyparsing!=3.0.5,>=2.0.2 in /Library/Frameworks/Python.framework/Versions/3.9/lib/python3.9/site-packages (from packaging>=21.3->statsmodels) (3.0.7)\n",
      "Requirement already satisfied: pytz>=2020.1 in /Library/Frameworks/Python.framework/Versions/3.9/lib/python3.9/site-packages (from pandas>=0.25->statsmodels) (2021.3)\n",
      "Requirement already satisfied: python-dateutil>=2.8.1 in /Library/Frameworks/Python.framework/Versions/3.9/lib/python3.9/site-packages (from pandas>=0.25->statsmodels) (2.8.2)\n",
      "Requirement already satisfied: six in /Library/Frameworks/Python.framework/Versions/3.9/lib/python3.9/site-packages (from patsy>=0.5.2->statsmodels) (1.16.0)\n",
      "Installing collected packages: patsy, statsmodels\n",
      "Successfully installed patsy-0.5.2 statsmodels-0.13.2\n"
     ]
    }
   ],
   "source": [
    "!pip3 install folium\n",
    "!pip3 install statsmodels "
   ]
  },
  {
   "cell_type": "markdown",
   "metadata": {},
   "source": [
    "Downloading all the necessary library"
   ]
  },
  {
   "cell_type": "code",
   "execution_count": 117,
   "metadata": {},
   "outputs": [],
   "source": [
    "import pandas as pd\n",
    "import numpy as np\n",
    "import matplotlib.pyplot as plt\n",
    "import seaborn as sns \n",
    "import statsmodels.api as sm\n",
    "import folium as folium\n",
    "from folium.features import DivIcon"
   ]
  },
  {
   "cell_type": "code",
   "execution_count": 2,
   "metadata": {},
   "outputs": [],
   "source": [
    "from sklearn.metrics import plot_roc_curve\n",
    "from sklearn.model_selection import train_test_split, GridSearchCV      \n",
    "from sklearn.linear_model import LogisticRegression\n",
    "from sklearn.ensemble import GradientBoostingClassifier\n",
    "from sklearn.tree import DecisionTreeClassifier\n",
    "from sklearn.ensemble import RandomForestClassifier\n",
    "from sklearn.pipeline import Pipeline\n",
    "from sklearn.impute import SimpleImputer\n",
    "from sklearn.preprocessing import StandardScaler, OneHotEncoder\n",
    "from sklearn.compose import ColumnTransformer #transform different types"
   ]
  },
  {
   "cell_type": "markdown",
   "metadata": {},
   "source": [
    "Importing of data set"
   ]
  },
  {
   "cell_type": "code",
   "execution_count": 3,
   "metadata": {},
   "outputs": [],
   "source": [
    "airports_data = pd.read_csv ('/Users/P1418664/Desktop/SIM/ST2195Coursework/airports.csv')\n",
    "carriers_data = pd.read_csv ('/Users/P1418664/Desktop/SIM/ST2195Coursework/carriers.csv')\n",
    "planes_data = pd.read_csv ('/Users/P1418664/Desktop/SIM/ST2195Coursework/plane-data.csv')\n",
    "data_2007 = pd.read_csv ('/Users/P1418664/Desktop/SIM/ST2195Coursework/2007.csv')\n",
    "data_2006 = pd.read_csv ('/Users/P1418664/Desktop/SIM/ST2195Coursework/2006.csv')\n",
    "data_2005 = pd.read_csv ('/Users/P1418664/Desktop/SIM/ST2195Coursework/2005.csv') \n"
   ]
  },
  {
   "cell_type": "markdown",
   "metadata": {},
   "source": [
    "Creating a new dataframe for the plane seating capacity"
   ]
  },
  {
   "cell_type": "code",
   "execution_count": 5,
   "metadata": {},
   "outputs": [
    {
     "name": "stdout",
     "output_type": "stream",
     "text": [
      "             model  MaxCap\n",
      "0              550       9\n",
      "1             1121       9\n",
      "2             206B       4\n",
      "3             421C       6\n",
      "4           65-A90       9\n",
      "5          737-322     150\n",
      "6          737-490     180\n",
      "7          737-4Q8     180\n",
      "8          737-4S5     180\n",
      "9          737-522     140\n",
      "10         737-790     150\n",
      "11         737-890     162\n",
      "12         737-8FH     162\n",
      "13         737-990     180\n",
      "14         747-422     416\n",
      "15         747-451     416\n",
      "16         757-222     169\n",
      "17         757-223     169\n",
      "18         767-223     214\n",
      "19         767-322     214\n",
      "20         767-323     214\n",
      "21         767-325     214\n",
      "22         777-222     276\n",
      "23            A-1B       2\n",
      "24           A109E       6\n",
      "25        A319-131     150\n",
      "26        A320-232     170\n",
      "27        AS 355F1       4\n",
      "28             C90       4\n",
      "29          DC-7BF     105\n",
      "30  DC-9-82(MD-82)     170\n",
      "31  DC-9-83(MD-83)     150\n",
      "32            E-90       4\n",
      "33            G-IV      15\n",
      "34         HST-550       9\n",
      "35       PA-31-350       9\n",
      "36      PA-32R-300       6\n",
      "37           S-50A       4\n",
      "38           S-76A      15\n",
      "39           T210N       6\n"
     ]
    }
   ],
   "source": [
    "data = [['550', 9], ['1121', 9], ['206B', 4],['421C',6],['65-A90',9],['737-322',150],['737-490',180], ['737-4Q8',180],['737-4S5',180],['737-522',140], ['737-790',150],['737-890',162],['737-8FH',162]\n",
    "        ,['737-990',180], ['747-422',416],['747-451',416],['757-222',169],['757-223',169],['767-223',214],['767-322',214],['767-323',214],['767-325',214],['777-222',276],['A-1B',2],['A109E',6],['A319-131',150]\n",
    "        ,['A320-232',170],['AS 355F1',4],['C90',4],['DC-7BF',105],['DC-9-82(MD-82)',170],['DC-9-83(MD-83)',150],['E-90',4],['G-IV',15],['HST-550',9],['PA-31-350',9],['PA-32R-300',6],['S-50A',4],['S-76A',15],['T210N',6]]\n",
    "plane_cap = pd.DataFrame(data, columns= ['model','MaxCap'])\n",
    "print(plane_cap)"
   ]
  },
  {
   "cell_type": "markdown",
   "metadata": {},
   "source": [
    "Combining the 3 years of data to one data frame and creating the different dictionary and renaming my column name "
   ]
  },
  {
   "cell_type": "code",
   "execution_count": 4,
   "metadata": {},
   "outputs": [],
   "source": [
    "total_data= pd.concat([data_2005, data_2006, data_2007])\n",
    "week_dict= {1:'Monday',2:'Tuesday',3:'Wednesday',4:'Thursday',5:'Friday',6:'Saturday',7:'Sunday'}\n",
    "month_dict= {1:'January',2:'Febraury',3:'March',4:'April',5:'May',6:'June',7:'July',8:'August',9:'September',10:'October',11:'November',12:'December'}\n",
    "quarter_dict= {1:'First',2:'First',3:'First',4:'Second',5:'Second',6:'Second',7:'Third',8:'Third',9:'Third',10:'Fourth',11:'Fourth',12:'Fourth'}\n",
    "planes_data= planes_data.rename(columns= {'tailnum':'TailNum'})"
   ]
  },
  {
   "cell_type": "markdown",
   "metadata": {},
   "source": [
    "Creating total delay by adding arrival and departure delay."
   ]
  },
  {
   "cell_type": "code",
   "execution_count": 5,
   "metadata": {},
   "outputs": [],
   "source": [
    "total_data[\"TotalDelay\"]=total_data[\"ArrDelay\"] + total_data [\"DepDelay\"]"
   ]
  },
  {
   "cell_type": "markdown",
   "metadata": {},
   "source": [
    "Question 1 – When is the best time of day, day of the week and time of year to fly to minimize delays?"
   ]
  },
  {
   "cell_type": "markdown",
   "metadata": {},
   "source": [
    "Finding the best day of the week to fly to minimize delay"
   ]
  },
  {
   "cell_type": "code",
   "execution_count": 6,
   "metadata": {},
   "outputs": [
    {
     "name": "stdout",
     "output_type": "stream",
     "text": [
      "Best time to minimize delays is to travel on Saturday\n"
     ]
    }
   ],
   "source": [
    "best_day= total_data[['DayOfWeek','DepDelay','ArrDelay','TotalDelay']].groupby('DayOfWeek').mean()\n",
    "best_day=best_day.sort_values(by='TotalDelay',ascending=True)\n",
    "print(\"Best time to minimize delays is to travel on {}\".format(week_dict[best_day.index[0]]))"
   ]
  },
  {
   "cell_type": "markdown",
   "metadata": {},
   "source": [
    "Ploting of bar chart to see which is the best day to fly"
   ]
  },
  {
   "cell_type": "code",
   "execution_count": 10,
   "metadata": {},
   "outputs": [
    {
     "data": {
      "text/plain": [
       "<AxesSubplot:title={'center':'Which day have the least delays?'}, xlabel='Day Of Week'>"
      ]
     },
     "execution_count": 10,
     "metadata": {},
     "output_type": "execute_result"
    },
    {
     "data": {
      "image/png": "[encoded data removed]",
      "text/plain": [
       "<Figure size 720x432 with 1 Axes>"
      ]
     },
     "metadata": {
      "needs_background": "light"
     },
     "output_type": "display_data"
    }
   ],
   "source": [
    "best_day_graph= best_day.reset_index()[['DayOfWeek','TotalDelay']]\n",
    "best_day_graph=best_day_graph.sort_values(by='DayOfWeek',ascending=True)\n",
    "best_day_graph.loc[:,'Day Of Week']= best_day_graph['DayOfWeek'].apply(lambda x:week_dict[x])\n",
    "best_day_graph=best_day_graph[['Day Of Week','DayOfWeek','TotalDelay']].set_index('Day Of Week')\n",
    "best_day_graph[['TotalDelay']].plot(kind='bar',figsize= (10,6),title='Which day have the least delays?')"
   ]
  },
  {
   "cell_type": "markdown",
   "metadata": {},
   "source": [
    "Finding the best month to fly to minimize delay"
   ]
  },
  {
   "cell_type": "code",
   "execution_count": 12,
   "metadata": {},
   "outputs": [
    {
     "name": "stdout",
     "output_type": "stream",
     "text": [
      "Best month to minimize delays is to travel on September\n"
     ]
    }
   ],
   "source": [
    "best_month= total_data[['Month','DepDelay','ArrDelay','TotalDelay']].groupby('Month').mean()\n",
    "best_month=best_month.sort_values(by='TotalDelay',ascending=True)\n",
    "print(\"Best month to minimize delays is to travel on {}\".format(month_dict[best_month.index[0]]))"
   ]
  },
  {
   "cell_type": "markdown",
   "metadata": {},
   "source": [
    "Ploting of bar chart to see which is the best month to fly"
   ]
  },
  {
   "cell_type": "code",
   "execution_count": 13,
   "metadata": {},
   "outputs": [
    {
     "data": {
      "text/plain": [
       "<AxesSubplot:title={'center':'Which month have the least delays?'}, xlabel='Month'>"
      ]
     },
     "execution_count": 13,
     "metadata": {},
     "output_type": "execute_result"
    },
    {
     "data": {
      "image/png": "[encoded data removed]",
      "text/plain": [
       "<Figure size 720x432 with 1 Axes>"
      ]
     },
     "metadata": {
      "needs_background": "light"
     },
     "output_type": "display_data"
    }
   ],
   "source": [
    "best_month_graph= best_month.reset_index()[['Month','TotalDelay']]\n",
    "best_month_graph=best_month_graph.sort_values(by='Month',ascending=True)\n",
    "best_month_graph.loc[:,'Month']= best_month_graph['Month'].apply(lambda x:month_dict[x])\n",
    "best_month_graph=best_month_graph[['Month','TotalDelay']].set_index('Month')\n",
    "best_month_graph[['TotalDelay']].plot(kind='bar',figsize= (10,6),title='Which month have the least delays?')"
   ]
  },
  {
   "cell_type": "markdown",
   "metadata": {},
   "source": [
    "Finding the best quarter to fly to minimize delay "
   ]
  },
  {
   "cell_type": "code",
   "execution_count": 15,
   "metadata": {},
   "outputs": [
    {
     "name": "stdout",
     "output_type": "stream",
     "text": [
      "Best quarter to minimize delays is to travel on the Second quarter\n"
     ]
    }
   ],
   "source": [
    "total_data['Quarter']= total_data['Month'].apply(lambda x:quarter_dict[x])\n",
    "best_quarter= total_data[['Quarter','DepDelay','ArrDelay','TotalDelay']].groupby('Quarter').mean()\n",
    "best_quarter=best_quarter.sort_values(by='TotalDelay',ascending=True)\n",
    "print(\"Best quarter to minimize delays is to travel on the {} quarter\".format(best_quarter.index[0]))   "
   ]
  },
  {
   "cell_type": "markdown",
   "metadata": {},
   "source": [
    "Ploting of bar chart to see which is the best quarter to fly"
   ]
  },
  {
   "cell_type": "code",
   "execution_count": 17,
   "metadata": {},
   "outputs": [
    {
     "data": {
      "text/plain": [
       "<AxesSubplot:title={'center':'Which Quater have the least delays?'}, xlabel='Quarters'>"
      ]
     },
     "execution_count": 17,
     "metadata": {},
     "output_type": "execute_result"
    },
    {
     "data": {
      "image/png": "[encoded data removed]",
      "text/plain": [
       "<Figure size 720x432 with 1 Axes>"
      ]
     },
     "metadata": {
      "needs_background": "light"
     },
     "output_type": "display_data"
    }
   ],
   "source": [
    "best_quarter_graph= best_quarter.reset_index()[['Quarter','TotalDelay']]\n",
    "best_quarter_graph.loc[:,'Quarters']= best_quarter_graph['Quarter']\n",
    "best_quarter_graph=best_quarter_graph[['Quarters','Quarter','TotalDelay']].set_index('Quarters')\n",
    "best_quarter_graph[['TotalDelay']].plot(kind='bar',figsize= (10,6),title='Which Quater have the least delays?')"
   ]
  },
  {
   "cell_type": "markdown",
   "metadata": {},
   "source": [
    "Creating a new column on time by cuting it "
   ]
  },
  {
   "cell_type": "code",
   "execution_count": 26,
   "metadata": {},
   "outputs": [],
   "source": [
    "total_data[\"Time\"] = pd.cut(x = total_data[\"DepTime\"], bins = [0,100,200,300,400,500,600,700,800,900,1000,1100,1200,1300,1400,1500,1600,1700,1800,1900,2000,2100,2200,2300,2400],\n",
    "                                    labels = ['00','01','02','03','04','05','06','07','08','09','10','11','12','13','14','15','16','17','18','19','20','21','22','23'])"
   ]
  },
  {
   "cell_type": "markdown",
   "metadata": {},
   "source": [
    "drop all the NA"
   ]
  },
  {
   "cell_type": "code",
   "execution_count": 23,
   "metadata": {},
   "outputs": [],
   "source": [
    "total_data['Time'] = total_data['Time'].replace('NaN', np.nan)\n",
    "total_data['Time']= total_data['Time'].replace(r'\\s+|^$', np.nan, regex=True)\n",
    "total_data = total_data.dropna(subset=['Time'])"
   ]
  },
  {
   "cell_type": "code",
   "execution_count": null,
   "metadata": {},
   "outputs": [],
   "source": [
    "Finding the best time of the day to fly to minimize delay "
   ]
  },
  {
   "cell_type": "code",
   "execution_count": 29,
   "metadata": {},
   "outputs": [
    {
     "name": "stdout",
     "output_type": "stream",
     "text": [
      "Best time to minimize delays is to travel on the 05 Hr\n"
     ]
    }
   ],
   "source": [
    "best_time= total_data[['Time','DepDelay','ArrDelay', 'TotalDelay']].groupby('Time').mean()\n",
    "best_time=best_time.sort_values(by='TotalDelay',ascending=True)\n",
    "print(\"Best time to minimize delays is to travel on the {} Hr\".format(best_time.index[0]))   \n"
   ]
  },
  {
   "cell_type": "markdown",
   "metadata": {},
   "source": [
    "Ploting of bar chart to see which is the best time of the day to fly"
   ]
  },
  {
   "cell_type": "code",
   "execution_count": 30,
   "metadata": {},
   "outputs": [
    {
     "data": {
      "text/plain": [
       "<AxesSubplot:title={'center':'Which time of the day have the least delays?'}, xlabel='Time of the day'>"
      ]
     },
     "execution_count": 30,
     "metadata": {},
     "output_type": "execute_result"
    },
    {
     "data": {
      "image/png": "[encoded data removed]",
      "text/plain": [
       "<Figure size 720x432 with 1 Axes>"
      ]
     },
     "metadata": {
      "needs_background": "light"
     },
     "output_type": "display_data"
    }
   ],
   "source": [
    "best_time_graph= best_time.reset_index()[['Time','DepDelay']]\n",
    "best_time_graph.loc[:,'Time of the day']= best_time_graph['Time']\n",
    "best_time_graph=best_time_graph[['Time of the day','Time','DepDelay']].set_index('Time of the day')\n",
    "best_time_graph[['DepDelay']].plot(kind='bar',figsize= (10,6),title='Which time of the day have the least delays?')"
   ]
  },
  {
   "cell_type": "markdown",
   "metadata": {},
   "source": [
    "Question 2 – Do older planes suffer more delays?"
   ]
  },
  {
   "cell_type": "code",
   "execution_count": 104,
   "metadata": {},
   "outputs": [],
   "source": [
    "tailno_delay= total_data[['TailNum', 'ArrDelay', 'DepDelay','TotalDelay']]\n",
    "tailno_delay = tailno_delay.dropna(subset=['ArrDelay','DepDelay','TotalDelay'])\n",
    "tail_plane_delay= pd.merge(tailno_delay, planes_data, on='TailNum')\n",
    "age_delay= tail_plane_delay[['year','DepDelay','ArrDelay','TotalDelay']].groupby('year').mean()\n",
    "age_delay = age_delay.drop(age_delay.index[[0, 49]])\n",
    "age_delay= age_delay.reset_index()"
   ]
  },
  {
   "cell_type": "markdown",
   "metadata": {},
   "source": [
    "Changing the column type from object to interger"
   ]
  },
  {
   "cell_type": "code",
   "execution_count": 106,
   "metadata": {},
   "outputs": [],
   "source": [
    "age_delay['year']= age_delay['year'].astype(int)"
   ]
  },
  {
   "cell_type": "markdown",
   "metadata": {},
   "source": [
    "Plotting of scatter plot and regression line"
   ]
  },
  {
   "cell_type": "code",
   "execution_count": 113,
   "metadata": {},
   "outputs": [
    {
     "data": {
      "image/png": "[encoded data removed]",
      "text/plain": [
       "<Figure size 360x360 with 1 Axes>"
      ]
     },
     "metadata": {
      "needs_background": "light"
     },
     "output_type": "display_data"
    }
   ],
   "source": [
    "figsize = (15,15)\n",
    "sns.lmplot(x = 'year', y= 'TotalDelay', fit_reg= True, data= age_delay, line_kws= {'color': 'blue'}, ci = None, markers='o',scatter_kws={'color':'black','facecolors':'none'})\n",
    "plt.xlabel('Plane Age', fontname= 'Ariel', fontweight='light',fontsize= 15)\n",
    "plt.ylabel('Delay', fontname= 'Ariel', fontweight='light',fontsize= 15)\n",
    "plt.xticks(fontname= 'Ariel', fontweight='light',fontsize= 15)\n",
    "plt.yticks(fontname= 'Ariel', fontweight='light',fontsize= 15)\n",
    "plt.title('Do older planes suffer more delay?', fontname= 'Arial', fontweight='bold',fontsize= 15)\n",
    "plt.xlim([1955,2008])\n",
    "plt.show()"
   ]
  },
  {
   "cell_type": "markdown",
   "metadata": {},
   "source": [
    "Summary to see if the age of the plane correlates to the delay"
   ]
  },
  {
   "cell_type": "code",
   "execution_count": 118,
   "metadata": {},
   "outputs": [
    {
     "name": "stdout",
     "output_type": "stream",
     "text": [
      "                            OLS Regression Results                            \n",
      "==============================================================================\n",
      "Dep. Variable:             TotalDelay   R-squared:                       0.005\n",
      "Model:                            OLS   Adj. R-squared:                 -0.017\n",
      "Method:                 Least Squares   F-statistic:                    0.2298\n",
      "Date:                Wed, 30 Mar 2022   Prob (F-statistic):              0.634\n",
      "Time:                        01:39:29   Log-Likelihood:                -112.88\n",
      "No. Observations:                  48   AIC:                             229.8\n",
      "Df Residuals:                      46   BIC:                             233.5\n",
      "Df Model:                           1                                         \n",
      "Covariance Type:            nonrobust                                         \n",
      "==============================================================================\n",
      "                 coef    std err          t      P>|t|      [0.025      0.975]\n",
      "------------------------------------------------------------------------------\n",
      "const         -4.9832     51.000     -0.098      0.923    -107.641      97.675\n",
      "year           0.0123      0.026      0.479      0.634      -0.039       0.064\n",
      "==============================================================================\n",
      "Omnibus:                       14.255   Durbin-Watson:                   1.698\n",
      "Prob(Omnibus):                  0.001   Jarque-Bera (JB):               23.640\n",
      "Skew:                          -0.836   Prob(JB):                     7.35e-06\n",
      "Kurtosis:                       6.004   Cond. No.                     2.70e+05\n",
      "==============================================================================\n",
      "\n",
      "Notes:\n",
      "[1] Standard Errors assume that the covariance matrix of the errors is correctly specified.\n",
      "[2] The condition number is large, 2.7e+05. This might indicate that there are\n",
      "strong multicollinearity or other numerical problems.\n"
     ]
    }
   ],
   "source": [
    "a = age_delay['year']\n",
    "b = age_delay['TotalDelay']\n",
    "\n",
    "a2 = sm.add_constant(a)\n",
    "est = sm.OLS(b, a2)\n",
    "est2 = est.fit()\n",
    "print(est2.summary())"
   ]
  },
  {
   "cell_type": "markdown",
   "metadata": {},
   "source": [
    "Question 3 – How does the number of people flying between different airport change over time?"
   ]
  },
  {
   "cell_type": "markdown",
   "metadata": {},
   "source": [
    "Getting the flight from 2 diff airport(ORD-Chicago and SAN-San Diego)"
   ]
  },
  {
   "cell_type": "code",
   "execution_count": 59,
   "metadata": {},
   "outputs": [
    {
     "name": "stdout",
     "output_type": "stream",
     "text": [
      "      MaxCap   changes iata\n",
      "Year                       \n",
      "2005  914696       NaN  SAN\n",
      "2006  838183       NaN  SAN\n",
      "2007  807663 -107033.0  SAN\n"
     ]
    }
   ],
   "source": [
    "diff_airport_SAN = total_data[(total_data['Origin'] == 'ORD') & (total_data['Dest'] == 'SAN') | (total_data['Origin']== 'SAN') & (total_data['Dest'] == 'ORD')]\n",
    "diff_airport_SAN = pd.merge(diff_airport_SAN, planes_data, on=['TailNum'])\n",
    "diff_airport_SAN.drop(diff_airport_SAN[(diff_airport_SAN['type']=='Co-Owner') | (diff_airport_SAN['type']=='Individual') | (diff_airport_SAN['type']=='Partnership')].index , inplace=True)\n",
    "diff_airport_SAN = pd.merge(diff_airport_SAN, plane_cap, on=['model'])\n",
    "ORD_SAN= pd.DataFrame(diff_airport_SAN[['Year','MaxCap']].groupby('Year').sum())\n",
    "ORD_SAN['changes']= ORD_SAN['MaxCap'].diff(periods=2)\n",
    "ORD_SAN['iata']='SAN'\n",
    "print(ORD_SAN)"
   ]
  },
  {
   "cell_type": "markdown",
   "metadata": {},
   "source": [
    "Los Angeles (LAX) and Chicago(ORD)"
   ]
  },
  {
   "cell_type": "code",
   "execution_count": 60,
   "metadata": {},
   "outputs": [
    {
     "name": "stdout",
     "output_type": "stream",
     "text": [
      "       MaxCap   changes iata\n",
      "Year                        \n",
      "2005  1940936       NaN  LAX\n",
      "2006  1896469       NaN  LAX\n",
      "2007  1742614 -198322.0  LAX\n"
     ]
    }
   ],
   "source": [
    "diff_airport_LAX = total_data[(total_data['Origin'] == 'ORD') & (total_data['Dest'] == 'LAX') | (total_data['Origin']== 'LAX') & (total_data['Dest'] == 'ORD')]\n",
    "diff_airport_LAX = pd.merge(diff_airport_LAX, planes_data, on=['TailNum'])\n",
    "diff_airport_LAX.drop(diff_airport_LAX[(diff_airport_LAX['type']=='Co-Owner') | (diff_airport_LAX['type']=='Individual') | (diff_airport_LAX['type']=='Partnership')].index , inplace=True)\n",
    "diff_airport_LAX = pd.merge(diff_airport_LAX, plane_cap, on=['model'])\n",
    "ORD_LAX= pd.DataFrame(diff_airport_LAX[['Year','MaxCap']].groupby('Year').sum())\n",
    "ORD_LAX['changes']= ORD_LAX['MaxCap'].diff(periods=2)\n",
    "ORD_LAX['iata']='LAX'\n",
    "print(ORD_LAX)"
   ]
  },
  {
   "cell_type": "markdown",
   "metadata": {},
   "source": [
    "New York(LGA) and Chicago(ORD)"
   ]
  },
  {
   "cell_type": "code",
   "execution_count": 58,
   "metadata": {},
   "outputs": [
    {
     "name": "stdout",
     "output_type": "stream",
     "text": [
      "       MaxCap  changes iata\n",
      "Year                       \n",
      "2005  2482392      NaN  LGA\n",
      "2006  2536579      NaN  LGA\n",
      "2007  2532973  50581.0  LGA\n"
     ]
    }
   ],
   "source": [
    "diff_airport_LGA = total_data[(total_data['Origin'] == 'ORD') & (total_data['Dest'] == 'LGA') | (total_data['Origin']== 'LGA') & (total_data['Dest'] == 'ORD')]\n",
    "diff_airport_LGA = pd.merge(diff_airport_LGA, planes_data, on=['TailNum'])\n",
    "diff_airport_LGA.drop(diff_airport_LGA[(diff_airport_LGA['type']=='Co-Owner') | (diff_airport_LGA['type']=='Individual') | (diff_airport_LGA['type']=='Partnership')].index , inplace=True)\n",
    "diff_airport_LGA = pd.merge(diff_airport_LGA, plane_cap, on=['model'])\n",
    "ORD_LGA= pd.DataFrame(diff_airport_LGA[['Year','MaxCap']].groupby('Year').sum())\n",
    "ORD_LGA['changes']= ORD_LGA['MaxCap'].diff(periods=2)\n",
    "ORD_LGA['iata']='LGA'\n",
    "print(ORD_LGA)"
   ]
  },
  {
   "cell_type": "markdown",
   "metadata": {},
   "source": [
    "Seattle(SEA) and Chicago(ORD)"
   ]
  },
  {
   "cell_type": "code",
   "execution_count": 57,
   "metadata": {},
   "outputs": [
    {
     "name": "stdout",
     "output_type": "stream",
     "text": [
      "       MaxCap  changes iata\n",
      "Year                       \n",
      "2005  1286527      NaN  SEA\n",
      "2006  1300029      NaN  SEA\n",
      "2007  1246240 -40287.0  SEA\n"
     ]
    }
   ],
   "source": [
    "diff_airport_SEA = total_data[(total_data['Origin'] == 'ORD') & (total_data['Dest'] == 'SEA') | (total_data['Origin']== 'SEA') & (total_data['Dest'] == 'ORD')]\n",
    "diff_airport_SEA = pd.merge(diff_airport_SEA, planes_data, on=['TailNum'])\n",
    "diff_airport_SEA.drop(diff_airport_SEA[(diff_airport_SEA['type']=='Co-Owner') | (diff_airport_SEA['type']=='Individual') | (diff_airport_SEA['type']=='Partnership')].index , inplace=True)\n",
    "diff_airport_SEA = pd.merge(diff_airport_SEA, plane_cap, on=['model'])\n",
    "ORD_SEA= pd.DataFrame(diff_airport_SEA[['Year','MaxCap']].groupby('Year').sum())\n",
    "ORD_SEA['changes']= ORD_SEA['MaxCap'].diff(periods=2)\n",
    "ORD_SEA['iata']='SEA'\n",
    "print(ORD_SEA)"
   ]
  },
  {
   "cell_type": "markdown",
   "metadata": {},
   "source": [
    "San Francisco(SFO) and Chicago(ORD)"
   ]
  },
  {
   "cell_type": "code",
   "execution_count": 56,
   "metadata": {},
   "outputs": [
    {
     "name": "stdout",
     "output_type": "stream",
     "text": [
      "       MaxCap  changes iata\n",
      "Year                       \n",
      "2005  1692171      NaN  SFO\n",
      "2006  1667989      NaN  SFO\n",
      "2007  1631327 -60844.0  SFO\n"
     ]
    }
   ],
   "source": [
    "diff_airport_SFO = total_data[(total_data['Origin'] == 'ORD') & (total_data['Dest'] == 'SFO') | (total_data['Origin']== 'SFO') & (total_data['Dest'] == 'ORD')]\n",
    "diff_airport_SFO = pd.merge(diff_airport_SFO, planes_data, on=['TailNum'])\n",
    "diff_airport_SFO.drop(diff_airport_SFO[(diff_airport_SFO['type']=='Co-Owner') | (diff_airport_SFO['type']=='Individual') | (diff_airport_SFO['type']=='Partnership')].index , inplace=True)\n",
    "diff_airport_SFO = pd.merge(diff_airport_SFO, plane_cap, on=['model'])\n",
    "ORD_SFO= pd.DataFrame(diff_airport_SFO[['Year','MaxCap']].groupby('Year').sum())\n",
    "ORD_SFO['changes']= ORD_SFO['MaxCap'].diff(periods=2)\n",
    "ORD_SFO['iata']='SFO'\n",
    "print(ORD_SFO)"
   ]
  },
  {
   "cell_type": "markdown",
   "metadata": {},
   "source": [
    "Joining the table together and assigning color based on the changes in the number of passenger "
   ]
  },
  {
   "cell_type": "code",
   "execution_count": 103,
   "metadata": {},
   "outputs": [
    {
     "data": {
      "text/html": [
       "<div>\n",
       "<style scoped>\n",
       "    .dataframe tbody tr th:only-of-type {\n",
       "        vertical-align: middle;\n",
       "    }\n",
       "\n",
       "    .dataframe tbody tr th {\n",
       "        vertical-align: top;\n",
       "    }\n",
       "\n",
       "    .dataframe thead th {\n",
       "        text-align: right;\n",
       "    }\n",
       "</style>\n",
       "<table border=\"1\" class=\"dataframe\">\n",
       "  <thead>\n",
       "    <tr style=\"text-align: right;\">\n",
       "      <th></th>\n",
       "      <th>MaxCap</th>\n",
       "      <th>changes</th>\n",
       "      <th>iata</th>\n",
       "      <th>Colour</th>\n",
       "    </tr>\n",
       "    <tr>\n",
       "      <th>Year</th>\n",
       "      <th></th>\n",
       "      <th></th>\n",
       "      <th></th>\n",
       "      <th></th>\n",
       "    </tr>\n",
       "  </thead>\n",
       "  <tbody>\n",
       "    <tr>\n",
       "      <th>2005</th>\n",
       "      <td>1692171</td>\n",
       "      <td>0.0</td>\n",
       "      <td>SFO</td>\n",
       "      <td>red</td>\n",
       "    </tr>\n",
       "    <tr>\n",
       "      <th>2006</th>\n",
       "      <td>1667989</td>\n",
       "      <td>0.0</td>\n",
       "      <td>SFO</td>\n",
       "      <td>red</td>\n",
       "    </tr>\n",
       "    <tr>\n",
       "      <th>2007</th>\n",
       "      <td>1631327</td>\n",
       "      <td>-60844.0</td>\n",
       "      <td>SFO</td>\n",
       "      <td>red</td>\n",
       "    </tr>\n",
       "    <tr>\n",
       "      <th>2005</th>\n",
       "      <td>2482392</td>\n",
       "      <td>0.0</td>\n",
       "      <td>LGA</td>\n",
       "      <td>red</td>\n",
       "    </tr>\n",
       "    <tr>\n",
       "      <th>2006</th>\n",
       "      <td>2536579</td>\n",
       "      <td>0.0</td>\n",
       "      <td>LGA</td>\n",
       "      <td>red</td>\n",
       "    </tr>\n",
       "    <tr>\n",
       "      <th>2007</th>\n",
       "      <td>2532973</td>\n",
       "      <td>50581.0</td>\n",
       "      <td>LGA</td>\n",
       "      <td>green</td>\n",
       "    </tr>\n",
       "    <tr>\n",
       "      <th>2005</th>\n",
       "      <td>1286527</td>\n",
       "      <td>0.0</td>\n",
       "      <td>SEA</td>\n",
       "      <td>red</td>\n",
       "    </tr>\n",
       "    <tr>\n",
       "      <th>2006</th>\n",
       "      <td>1300029</td>\n",
       "      <td>0.0</td>\n",
       "      <td>SEA</td>\n",
       "      <td>red</td>\n",
       "    </tr>\n",
       "    <tr>\n",
       "      <th>2007</th>\n",
       "      <td>1246240</td>\n",
       "      <td>-40287.0</td>\n",
       "      <td>SEA</td>\n",
       "      <td>red</td>\n",
       "    </tr>\n",
       "    <tr>\n",
       "      <th>2005</th>\n",
       "      <td>914696</td>\n",
       "      <td>0.0</td>\n",
       "      <td>SAN</td>\n",
       "      <td>red</td>\n",
       "    </tr>\n",
       "    <tr>\n",
       "      <th>2006</th>\n",
       "      <td>838183</td>\n",
       "      <td>0.0</td>\n",
       "      <td>SAN</td>\n",
       "      <td>red</td>\n",
       "    </tr>\n",
       "    <tr>\n",
       "      <th>2007</th>\n",
       "      <td>807663</td>\n",
       "      <td>-107033.0</td>\n",
       "      <td>SAN</td>\n",
       "      <td>red</td>\n",
       "    </tr>\n",
       "    <tr>\n",
       "      <th>2005</th>\n",
       "      <td>1940936</td>\n",
       "      <td>0.0</td>\n",
       "      <td>LAX</td>\n",
       "      <td>red</td>\n",
       "    </tr>\n",
       "    <tr>\n",
       "      <th>2006</th>\n",
       "      <td>1896469</td>\n",
       "      <td>0.0</td>\n",
       "      <td>LAX</td>\n",
       "      <td>red</td>\n",
       "    </tr>\n",
       "    <tr>\n",
       "      <th>2007</th>\n",
       "      <td>1742614</td>\n",
       "      <td>-198322.0</td>\n",
       "      <td>LAX</td>\n",
       "      <td>red</td>\n",
       "    </tr>\n",
       "  </tbody>\n",
       "</table>\n",
       "</div>"
      ],
      "text/plain": [
       "       MaxCap   changes iata Colour\n",
       "Year                               \n",
       "2005  1692171       0.0  SFO    red\n",
       "2006  1667989       0.0  SFO    red\n",
       "2007  1631327  -60844.0  SFO    red\n",
       "2005  2482392       0.0  LGA    red\n",
       "2006  2536579       0.0  LGA    red\n",
       "2007  2532973   50581.0  LGA  green\n",
       "2005  1286527       0.0  SEA    red\n",
       "2006  1300029       0.0  SEA    red\n",
       "2007  1246240  -40287.0  SEA    red\n",
       "2005   914696       0.0  SAN    red\n",
       "2006   838183       0.0  SAN    red\n",
       "2007   807663 -107033.0  SAN    red\n",
       "2005  1940936       0.0  LAX    red\n",
       "2006  1896469       0.0  LAX    red\n",
       "2007  1742614 -198322.0  LAX    red"
      ]
     },
     "execution_count": 103,
     "metadata": {},
     "output_type": "execute_result"
    }
   ],
   "source": [
    "airports_total=pd.concat([ORD_SFO, ORD_LGA,ORD_SEA,ORD_SAN,ORD_LAX])\n",
    "airports_total['changes'] = airports_total['changes'].replace(np.nan, 0)\n",
    "airports_total['Colour'] =np.where(airports_total['changes']>0,'green','red')\n",
    "airports_total"
   ]
  },
  {
   "cell_type": "markdown",
   "metadata": {},
   "source": [
    "Merging with airport data to get the name and the coordinates for the airport"
   ]
  },
  {
   "cell_type": "code",
   "execution_count": 104,
   "metadata": {},
   "outputs": [
    {
     "data": {
      "text/html": [
       "<div>\n",
       "<style scoped>\n",
       "    .dataframe tbody tr th:only-of-type {\n",
       "        vertical-align: middle;\n",
       "    }\n",
       "\n",
       "    .dataframe tbody tr th {\n",
       "        vertical-align: top;\n",
       "    }\n",
       "\n",
       "    .dataframe thead th {\n",
       "        text-align: right;\n",
       "    }\n",
       "</style>\n",
       "<table border=\"1\" class=\"dataframe\">\n",
       "  <thead>\n",
       "    <tr style=\"text-align: right;\">\n",
       "      <th></th>\n",
       "      <th>MaxCap</th>\n",
       "      <th>changes</th>\n",
       "      <th>iata</th>\n",
       "      <th>Colour</th>\n",
       "      <th>airport</th>\n",
       "      <th>city</th>\n",
       "      <th>state</th>\n",
       "      <th>country</th>\n",
       "      <th>lat</th>\n",
       "      <th>long</th>\n",
       "    </tr>\n",
       "  </thead>\n",
       "  <tbody>\n",
       "    <tr>\n",
       "      <th>0</th>\n",
       "      <td>1692171</td>\n",
       "      <td>0.0</td>\n",
       "      <td>SFO</td>\n",
       "      <td>red</td>\n",
       "      <td>San Francisco International</td>\n",
       "      <td>San Francisco</td>\n",
       "      <td>CA</td>\n",
       "      <td>USA</td>\n",
       "      <td>37.619002</td>\n",
       "      <td>-122.374843</td>\n",
       "    </tr>\n",
       "    <tr>\n",
       "      <th>1</th>\n",
       "      <td>1667989</td>\n",
       "      <td>0.0</td>\n",
       "      <td>SFO</td>\n",
       "      <td>red</td>\n",
       "      <td>San Francisco International</td>\n",
       "      <td>San Francisco</td>\n",
       "      <td>CA</td>\n",
       "      <td>USA</td>\n",
       "      <td>37.619002</td>\n",
       "      <td>-122.374843</td>\n",
       "    </tr>\n",
       "    <tr>\n",
       "      <th>2</th>\n",
       "      <td>1631327</td>\n",
       "      <td>-60844.0</td>\n",
       "      <td>SFO</td>\n",
       "      <td>red</td>\n",
       "      <td>San Francisco International</td>\n",
       "      <td>San Francisco</td>\n",
       "      <td>CA</td>\n",
       "      <td>USA</td>\n",
       "      <td>37.619002</td>\n",
       "      <td>-122.374843</td>\n",
       "    </tr>\n",
       "    <tr>\n",
       "      <th>3</th>\n",
       "      <td>2482392</td>\n",
       "      <td>0.0</td>\n",
       "      <td>LGA</td>\n",
       "      <td>red</td>\n",
       "      <td>LaGuardia</td>\n",
       "      <td>New York</td>\n",
       "      <td>NY</td>\n",
       "      <td>USA</td>\n",
       "      <td>40.777243</td>\n",
       "      <td>-73.872609</td>\n",
       "    </tr>\n",
       "    <tr>\n",
       "      <th>4</th>\n",
       "      <td>2536579</td>\n",
       "      <td>0.0</td>\n",
       "      <td>LGA</td>\n",
       "      <td>red</td>\n",
       "      <td>LaGuardia</td>\n",
       "      <td>New York</td>\n",
       "      <td>NY</td>\n",
       "      <td>USA</td>\n",
       "      <td>40.777243</td>\n",
       "      <td>-73.872609</td>\n",
       "    </tr>\n",
       "    <tr>\n",
       "      <th>5</th>\n",
       "      <td>2532973</td>\n",
       "      <td>50581.0</td>\n",
       "      <td>LGA</td>\n",
       "      <td>green</td>\n",
       "      <td>LaGuardia</td>\n",
       "      <td>New York</td>\n",
       "      <td>NY</td>\n",
       "      <td>USA</td>\n",
       "      <td>40.777243</td>\n",
       "      <td>-73.872609</td>\n",
       "    </tr>\n",
       "    <tr>\n",
       "      <th>6</th>\n",
       "      <td>1286527</td>\n",
       "      <td>0.0</td>\n",
       "      <td>SEA</td>\n",
       "      <td>red</td>\n",
       "      <td>Seattle-Tacoma Intl</td>\n",
       "      <td>Seattle</td>\n",
       "      <td>WA</td>\n",
       "      <td>USA</td>\n",
       "      <td>47.448982</td>\n",
       "      <td>-122.309313</td>\n",
       "    </tr>\n",
       "    <tr>\n",
       "      <th>7</th>\n",
       "      <td>1300029</td>\n",
       "      <td>0.0</td>\n",
       "      <td>SEA</td>\n",
       "      <td>red</td>\n",
       "      <td>Seattle-Tacoma Intl</td>\n",
       "      <td>Seattle</td>\n",
       "      <td>WA</td>\n",
       "      <td>USA</td>\n",
       "      <td>47.448982</td>\n",
       "      <td>-122.309313</td>\n",
       "    </tr>\n",
       "    <tr>\n",
       "      <th>8</th>\n",
       "      <td>1246240</td>\n",
       "      <td>-40287.0</td>\n",
       "      <td>SEA</td>\n",
       "      <td>red</td>\n",
       "      <td>Seattle-Tacoma Intl</td>\n",
       "      <td>Seattle</td>\n",
       "      <td>WA</td>\n",
       "      <td>USA</td>\n",
       "      <td>47.448982</td>\n",
       "      <td>-122.309313</td>\n",
       "    </tr>\n",
       "    <tr>\n",
       "      <th>9</th>\n",
       "      <td>914696</td>\n",
       "      <td>0.0</td>\n",
       "      <td>SAN</td>\n",
       "      <td>red</td>\n",
       "      <td>San Diego International-Lindbergh</td>\n",
       "      <td>San Diego</td>\n",
       "      <td>CA</td>\n",
       "      <td>USA</td>\n",
       "      <td>32.733556</td>\n",
       "      <td>-117.189657</td>\n",
       "    </tr>\n",
       "    <tr>\n",
       "      <th>10</th>\n",
       "      <td>838183</td>\n",
       "      <td>0.0</td>\n",
       "      <td>SAN</td>\n",
       "      <td>red</td>\n",
       "      <td>San Diego International-Lindbergh</td>\n",
       "      <td>San Diego</td>\n",
       "      <td>CA</td>\n",
       "      <td>USA</td>\n",
       "      <td>32.733556</td>\n",
       "      <td>-117.189657</td>\n",
       "    </tr>\n",
       "    <tr>\n",
       "      <th>11</th>\n",
       "      <td>807663</td>\n",
       "      <td>-107033.0</td>\n",
       "      <td>SAN</td>\n",
       "      <td>red</td>\n",
       "      <td>San Diego International-Lindbergh</td>\n",
       "      <td>San Diego</td>\n",
       "      <td>CA</td>\n",
       "      <td>USA</td>\n",
       "      <td>32.733556</td>\n",
       "      <td>-117.189657</td>\n",
       "    </tr>\n",
       "    <tr>\n",
       "      <th>12</th>\n",
       "      <td>1940936</td>\n",
       "      <td>0.0</td>\n",
       "      <td>LAX</td>\n",
       "      <td>red</td>\n",
       "      <td>Los Angeles International</td>\n",
       "      <td>Los Angeles</td>\n",
       "      <td>CA</td>\n",
       "      <td>USA</td>\n",
       "      <td>33.942536</td>\n",
       "      <td>-118.408074</td>\n",
       "    </tr>\n",
       "    <tr>\n",
       "      <th>13</th>\n",
       "      <td>1896469</td>\n",
       "      <td>0.0</td>\n",
       "      <td>LAX</td>\n",
       "      <td>red</td>\n",
       "      <td>Los Angeles International</td>\n",
       "      <td>Los Angeles</td>\n",
       "      <td>CA</td>\n",
       "      <td>USA</td>\n",
       "      <td>33.942536</td>\n",
       "      <td>-118.408074</td>\n",
       "    </tr>\n",
       "    <tr>\n",
       "      <th>14</th>\n",
       "      <td>1742614</td>\n",
       "      <td>-198322.0</td>\n",
       "      <td>LAX</td>\n",
       "      <td>red</td>\n",
       "      <td>Los Angeles International</td>\n",
       "      <td>Los Angeles</td>\n",
       "      <td>CA</td>\n",
       "      <td>USA</td>\n",
       "      <td>33.942536</td>\n",
       "      <td>-118.408074</td>\n",
       "    </tr>\n",
       "  </tbody>\n",
       "</table>\n",
       "</div>"
      ],
      "text/plain": [
       "     MaxCap   changes iata Colour                             airport  \\\n",
       "0   1692171       0.0  SFO    red         San Francisco International   \n",
       "1   1667989       0.0  SFO    red         San Francisco International   \n",
       "2   1631327  -60844.0  SFO    red         San Francisco International   \n",
       "3   2482392       0.0  LGA    red                           LaGuardia   \n",
       "4   2536579       0.0  LGA    red                           LaGuardia   \n",
       "5   2532973   50581.0  LGA  green                           LaGuardia   \n",
       "6   1286527       0.0  SEA    red                 Seattle-Tacoma Intl   \n",
       "7   1300029       0.0  SEA    red                 Seattle-Tacoma Intl   \n",
       "8   1246240  -40287.0  SEA    red                 Seattle-Tacoma Intl   \n",
       "9    914696       0.0  SAN    red  San Diego International-Lindbergh    \n",
       "10   838183       0.0  SAN    red  San Diego International-Lindbergh    \n",
       "11   807663 -107033.0  SAN    red  San Diego International-Lindbergh    \n",
       "12  1940936       0.0  LAX    red           Los Angeles International   \n",
       "13  1896469       0.0  LAX    red           Los Angeles International   \n",
       "14  1742614 -198322.0  LAX    red           Los Angeles International   \n",
       "\n",
       "             city state country        lat        long  \n",
       "0   San Francisco    CA     USA  37.619002 -122.374843  \n",
       "1   San Francisco    CA     USA  37.619002 -122.374843  \n",
       "2   San Francisco    CA     USA  37.619002 -122.374843  \n",
       "3        New York    NY     USA  40.777243  -73.872609  \n",
       "4        New York    NY     USA  40.777243  -73.872609  \n",
       "5        New York    NY     USA  40.777243  -73.872609  \n",
       "6         Seattle    WA     USA  47.448982 -122.309313  \n",
       "7         Seattle    WA     USA  47.448982 -122.309313  \n",
       "8         Seattle    WA     USA  47.448982 -122.309313  \n",
       "9       San Diego    CA     USA  32.733556 -117.189657  \n",
       "10      San Diego    CA     USA  32.733556 -117.189657  \n",
       "11      San Diego    CA     USA  32.733556 -117.189657  \n",
       "12    Los Angeles    CA     USA  33.942536 -118.408074  \n",
       "13    Los Angeles    CA     USA  33.942536 -118.408074  \n",
       "14    Los Angeles    CA     USA  33.942536 -118.408074  "
      ]
     },
     "execution_count": 104,
     "metadata": {},
     "output_type": "execute_result"
    }
   ],
   "source": [
    "airports_coord= airports_data[(airports_data['iata']=='SAN') | (airports_data['iata']=='LGA') | (airports_data['iata']=='SEA') | (airports_data['iata']=='LAX') | (airports_data['iata']=='SFO') | (airports_data['iata']=='ORD')]\n",
    "airports_total = pd.merge(airports_total, airports_coord, on=['iata'])\n",
    "airports_total"
   ]
  },
  {
   "cell_type": "markdown",
   "metadata": {},
   "source": [
    "ploting a map of the airport and the changes using folium"
   ]
  },
  {
   "cell_type": "code",
   "execution_count": 105,
   "metadata": {},
   "outputs": [
    {
     "data": {
      "text/html": [
       "<div style=\"width:100%;\"><div style=\"position:relative;width:100%;height:0;padding-bottom:60%;\"><span style=\"color:#565656\">Make this Notebook Trusted to load map: File -> Trust Notebook</span><iframe src=\"about:blank\" style=\"position:absolute;width:100%;height:100%;left:0;top:0;border:none !important;\" data-html=%3C%21DOCTYPE%20html%3E%0A%3Chead%3E%20%20%20%20%0A%20%20%20%20%3Cmeta%20http-equiv%3D%22content-type%22%20content%3D%22text/html%3B%20charset%3DUTF-8%22%20/%3E%0A%20%20%20%20%0A%20%20%20%20%20%20%20%20%3Cscript%3E%0A%20%20%20%20%20%20%20%20%20%20%20%20L_NO_TOUCH%20%3D%20false%3B%0A%20%20%20%20%20%20%20%20%20%20%20%20L_DISABLE_3D%20%3D%20false%3B%0A%20%20%20%20%20%20%20%20%3C/script%3E%0A%20%20%20%20%0A%20%20%20%20%3Cstyle%3Ehtml%2C%20body%20%7Bwidth%3A%20100%25%3Bheight%3A%20100%25%3Bmargin%3A%200%3Bpadding%3A%200%3B%7D%3C/style%3E%0A%20%20%20%20%3Cstyle%3E%23map%20%7Bposition%3Aabsolute%3Btop%3A0%3Bbottom%3A0%3Bright%3A0%3Bleft%3A0%3B%7D%3C/style%3E%0A%20%20%20%20%3Cscript%20src%3D%22https%3A//cdn.jsdelivr.net/npm/leaflet%401.6.0/dist/leaflet.js%22%3E%3C/script%3E%0A%20%20%20%20%3Cscript%20src%3D%22https%3A//code.jquery.com/jquery-1.12.4.min.js%22%3E%3C/script%3E%0A%20%20%20%20%3Cscript%20src%3D%22https%3A//maxcdn.bootstrapcdn.com/bootstrap/3.2.0/js/bootstrap.min.js%22%3E%3C/script%3E%0A%20%20%20%20%3Cscript%20src%3D%22https%3A//cdnjs.cloudflare.com/ajax/libs/Leaflet.awesome-markers/2.0.2/leaflet.awesome-markers.js%22%3E%3C/script%3E%0A%20%20%20%20%3Clink%20rel%3D%22stylesheet%22%20href%3D%22https%3A//cdn.jsdelivr.net/npm/leaflet%401.6.0/dist/leaflet.css%22/%3E%0A%20%20%20%20%3Clink%20rel%3D%22stylesheet%22%20href%3D%22https%3A//maxcdn.bootstrapcdn.com/bootstrap/3.2.0/css/bootstrap.min.css%22/%3E%0A%20%20%20%20%3Clink%20rel%3D%22stylesheet%22%20href%3D%22https%3A//maxcdn.bootstrapcdn.com/bootstrap/3.2.0/css/bootstrap-theme.min.css%22/%3E%0A%20%20%20%20%3Clink%20rel%3D%22stylesheet%22%20href%3D%22https%3A//maxcdn.bootstrapcdn.com/font-awesome/4.6.3/css/font-awesome.min.css%22/%3E%0A%20%20%20%20%3Clink%20rel%3D%22stylesheet%22%20href%3D%22https%3A//cdnjs.cloudflare.com/ajax/libs/Leaflet.awesome-markers/2.0.2/leaflet.awesome-markers.css%22/%3E%0A%20%20%20%20%3Clink%20rel%3D%22stylesheet%22%20href%3D%22https%3A//cdn.jsdelivr.net/gh/python-visualization/folium/folium/templates/leaflet.awesome.rotate.min.css%22/%3E%0A%20%20%20%20%0A%20%20%20%20%20%20%20%20%20%20%20%20%3Cmeta%20name%3D%22viewport%22%20content%3D%22width%3Ddevice-width%2C%0A%20%20%20%20%20%20%20%20%20%20%20%20%20%20%20%20initial-scale%3D1.0%2C%20maximum-scale%3D1.0%2C%20user-scalable%3Dno%22%20/%3E%0A%20%20%20%20%20%20%20%20%20%20%20%20%3Cstyle%3E%0A%20%20%20%20%20%20%20%20%20%20%20%20%20%20%20%20%23map_446010495b2e4dc590981511154173a2%20%7B%0A%20%20%20%20%20%20%20%20%20%20%20%20%20%20%20%20%20%20%20%20position%3A%20relative%3B%0A%20%20%20%20%20%20%20%20%20%20%20%20%20%20%20%20%20%20%20%20width%3A%20100.0%25%3B%0A%20%20%20%20%20%20%20%20%20%20%20%20%20%20%20%20%20%20%20%20height%3A%20100.0%25%3B%0A%20%20%20%20%20%20%20%20%20%20%20%20%20%20%20%20%20%20%20%20left%3A%200.0%25%3B%0A%20%20%20%20%20%20%20%20%20%20%20%20%20%20%20%20%20%20%20%20top%3A%200.0%25%3B%0A%20%20%20%20%20%20%20%20%20%20%20%20%20%20%20%20%7D%0A%20%20%20%20%20%20%20%20%20%20%20%20%3C/style%3E%0A%20%20%20%20%20%20%20%20%0A%3C/head%3E%0A%3Cbody%3E%20%20%20%20%0A%20%20%20%20%0A%20%20%20%20%20%20%20%20%20%20%20%20%3Cdiv%20class%3D%22folium-map%22%20id%3D%22map_446010495b2e4dc590981511154173a2%22%20%3E%3C/div%3E%0A%20%20%20%20%20%20%20%20%0A%3C/body%3E%0A%3Cscript%3E%20%20%20%20%0A%20%20%20%20%0A%20%20%20%20%20%20%20%20%20%20%20%20var%20map_446010495b2e4dc590981511154173a2%20%3D%20L.map%28%0A%20%20%20%20%20%20%20%20%20%20%20%20%20%20%20%20%22map_446010495b2e4dc590981511154173a2%22%2C%0A%20%20%20%20%20%20%20%20%20%20%20%20%20%20%20%20%7B%0A%20%20%20%20%20%20%20%20%20%20%20%20%20%20%20%20%20%20%20%20center%3A%20%5B41.9796%2C%20-87.90446%5D%2C%0A%20%20%20%20%20%20%20%20%20%20%20%20%20%20%20%20%20%20%20%20crs%3A%20L.CRS.EPSG3857%2C%0A%20%20%20%20%20%20%20%20%20%20%20%20%20%20%20%20%20%20%20%20zoom%3A%2010%2C%0A%20%20%20%20%20%20%20%20%20%20%20%20%20%20%20%20%20%20%20%20zoomControl%3A%20true%2C%0A%20%20%20%20%20%20%20%20%20%20%20%20%20%20%20%20%20%20%20%20preferCanvas%3A%20false%2C%0A%20%20%20%20%20%20%20%20%20%20%20%20%20%20%20%20%7D%0A%20%20%20%20%20%20%20%20%20%20%20%20%29%3B%0A%0A%20%20%20%20%20%20%20%20%20%20%20%20%0A%0A%20%20%20%20%20%20%20%20%0A%20%20%20%20%0A%20%20%20%20%20%20%20%20%20%20%20%20var%20tile_layer_5bffdf91c63d4aa8a6a5f44e697817af%20%3D%20L.tileLayer%28%0A%20%20%20%20%20%20%20%20%20%20%20%20%20%20%20%20%22https%3A//%7Bs%7D.tile.openstreetmap.org/%7Bz%7D/%7Bx%7D/%7By%7D.png%22%2C%0A%20%20%20%20%20%20%20%20%20%20%20%20%20%20%20%20%7B%22attribution%22%3A%20%22Data%20by%20%5Cu0026copy%3B%20%5Cu003ca%20href%3D%5C%22http%3A//openstreetmap.org%5C%22%5Cu003eOpenStreetMap%5Cu003c/a%5Cu003e%2C%20under%20%5Cu003ca%20href%3D%5C%22http%3A//www.openstreetmap.org/copyright%5C%22%5Cu003eODbL%5Cu003c/a%5Cu003e.%22%2C%20%22detectRetina%22%3A%20false%2C%20%22maxNativeZoom%22%3A%2018%2C%20%22maxZoom%22%3A%2018%2C%20%22minZoom%22%3A%200%2C%20%22noWrap%22%3A%20false%2C%20%22opacity%22%3A%201%2C%20%22subdomains%22%3A%20%22abc%22%2C%20%22tms%22%3A%20false%7D%0A%20%20%20%20%20%20%20%20%20%20%20%20%29.addTo%28map_446010495b2e4dc590981511154173a2%29%3B%0A%20%20%20%20%20%20%20%20%0A%20%20%20%20%0A%20%20%20%20%20%20%20%20%20%20%20%20var%20circle_90edf277b44443eabc2cdb08b5048fda%20%3D%20L.circle%28%0A%20%20%20%20%20%20%20%20%20%20%20%20%20%20%20%20%5B41.9796%2C%20-87.90446%5D%2C%0A%20%20%20%20%20%20%20%20%20%20%20%20%20%20%20%20%7B%22bubblingMouseEvents%22%3A%20true%2C%20%22color%22%3A%20%22%23d35400%22%2C%20%22dashArray%22%3A%20null%2C%20%22dashOffset%22%3A%20null%2C%20%22fill%22%3A%20true%2C%20%22fillColor%22%3A%20%22%23d35400%22%2C%20%22fillOpacity%22%3A%200.2%2C%20%22fillRule%22%3A%20%22evenodd%22%2C%20%22lineCap%22%3A%20%22round%22%2C%20%22lineJoin%22%3A%20%22round%22%2C%20%22opacity%22%3A%201.0%2C%20%22radius%22%3A%201000%2C%20%22stroke%22%3A%20true%2C%20%22weight%22%3A%203%7D%0A%20%20%20%20%20%20%20%20%20%20%20%20%29.addTo%28map_446010495b2e4dc590981511154173a2%29%3B%0A%20%20%20%20%20%20%20%20%0A%20%20%20%20%0A%20%20%20%20%20%20%20%20var%20popup_c88c2ab38f96463d8a1b0fa53c5bfc6d%20%3D%20L.popup%28%7B%22maxWidth%22%3A%20%22100%25%22%7D%29%3B%0A%0A%20%20%20%20%20%20%20%20%0A%20%20%20%20%20%20%20%20%20%20%20%20var%20html_3492898b84ac4daaab41c4dfdc664e50%20%3D%20%24%28%60%3Cdiv%20id%3D%22html_3492898b84ac4daaab41c4dfdc664e50%22%20style%3D%22width%3A%20100.0%25%3B%20height%3A%20100.0%25%3B%22%3EChicago%20O%27Hare%20International%3C/div%3E%60%29%5B0%5D%3B%0A%20%20%20%20%20%20%20%20%20%20%20%20popup_c88c2ab38f96463d8a1b0fa53c5bfc6d.setContent%28html_3492898b84ac4daaab41c4dfdc664e50%29%3B%0A%20%20%20%20%20%20%20%20%0A%0A%20%20%20%20%20%20%20%20circle_90edf277b44443eabc2cdb08b5048fda.bindPopup%28popup_c88c2ab38f96463d8a1b0fa53c5bfc6d%29%0A%20%20%20%20%20%20%20%20%3B%0A%0A%20%20%20%20%20%20%20%20%0A%20%20%20%20%0A%20%20%20%20%0A%20%20%20%20%20%20%20%20%20%20%20%20var%20marker_1c7e7ebccd1a4fba9d88fa8853a54846%20%3D%20L.marker%28%0A%20%20%20%20%20%20%20%20%20%20%20%20%20%20%20%20%5B41.9796%2C%20-87.90446%5D%2C%0A%20%20%20%20%20%20%20%20%20%20%20%20%20%20%20%20%7B%7D%0A%20%20%20%20%20%20%20%20%20%20%20%20%29.addTo%28map_446010495b2e4dc590981511154173a2%29%3B%0A%20%20%20%20%20%20%20%20%0A%20%20%20%20%0A%20%20%20%20%20%20%20%20%20%20%20%20var%20div_icon_0777f2785b134e9595acf4a51e5aae4b%20%3D%20L.divIcon%28%7B%22className%22%3A%20%22empty%22%2C%20%22html%22%3A%20%22%5Cu003cdiv%20style%3D%5C%22font-size%3A%2012%3B%20color%3A%23d35400%3B%5C%22%5Cu003e%5Cu003cb%5Cu003eChicago%20O%5Cu0027Hare%20International%5Cu003c/b%5Cu003e%5Cu003c/div%5Cu003e%22%2C%20%22iconAnchor%22%3A%20%5B0%2C%200%5D%2C%20%22iconSize%22%3A%20%5B20%2C%2020%5D%7D%29%3B%0A%20%20%20%20%20%20%20%20%20%20%20%20marker_1c7e7ebccd1a4fba9d88fa8853a54846.setIcon%28div_icon_0777f2785b134e9595acf4a51e5aae4b%29%3B%0A%20%20%20%20%20%20%20%20%0A%20%20%20%20%0A%20%20%20%20%20%20%20%20%20%20%20%20var%20circle_05d60794b71b44e8b08ef1369b2697b2%20%3D%20L.circle%28%0A%20%20%20%20%20%20%20%20%20%20%20%20%20%20%20%20%5B37.61900194%2C%20-122.3748433%5D%2C%0A%20%20%20%20%20%20%20%20%20%20%20%20%20%20%20%20%7B%22bubblingMouseEvents%22%3A%20true%2C%20%22color%22%3A%20%22%23d35400%22%2C%20%22dashArray%22%3A%20null%2C%20%22dashOffset%22%3A%20null%2C%20%22fill%22%3A%20true%2C%20%22fillColor%22%3A%20%22%23d35400%22%2C%20%22fillOpacity%22%3A%200.2%2C%20%22fillRule%22%3A%20%22evenodd%22%2C%20%22lineCap%22%3A%20%22round%22%2C%20%22lineJoin%22%3A%20%22round%22%2C%20%22opacity%22%3A%201.0%2C%20%22radius%22%3A%20100%2C%20%22stroke%22%3A%20true%2C%20%22weight%22%3A%203%7D%0A%20%20%20%20%20%20%20%20%20%20%20%20%29.addTo%28map_446010495b2e4dc590981511154173a2%29%3B%0A%20%20%20%20%20%20%20%20%0A%20%20%20%20%0A%20%20%20%20%20%20%20%20var%20popup_0a8a1ff105cd4350bda7c6b0df7ee45f%20%3D%20L.popup%28%7B%22maxWidth%22%3A%20%22100%25%22%7D%29%3B%0A%0A%20%20%20%20%20%20%20%20%0A%20%20%20%20%20%20%20%20%20%20%20%20var%20html_d4748bbc1a8847f79826be7c7c71e4ad%20%3D%20%24%28%60%3Cdiv%20id%3D%22html_d4748bbc1a8847f79826be7c7c71e4ad%22%20style%3D%22width%3A%20100.0%25%3B%20height%3A%20100.0%25%3B%22%3ESan%20Francisco%20International%3C/div%3E%60%29%5B0%5D%3B%0A%20%20%20%20%20%20%20%20%20%20%20%20popup_0a8a1ff105cd4350bda7c6b0df7ee45f.setContent%28html_d4748bbc1a8847f79826be7c7c71e4ad%29%3B%0A%20%20%20%20%20%20%20%20%0A%0A%20%20%20%20%20%20%20%20circle_05d60794b71b44e8b08ef1369b2697b2.bindPopup%28popup_0a8a1ff105cd4350bda7c6b0df7ee45f%29%0A%20%20%20%20%20%20%20%20%3B%0A%0A%20%20%20%20%20%20%20%20%0A%20%20%20%20%0A%20%20%20%20%0A%20%20%20%20%20%20%20%20%20%20%20%20var%20marker_4a4d8dd5b0ef4e4e8af433b2efd18a9e%20%3D%20L.marker%28%0A%20%20%20%20%20%20%20%20%20%20%20%20%20%20%20%20%5B37.61900194%2C%20-122.3748433%5D%2C%0A%20%20%20%20%20%20%20%20%20%20%20%20%20%20%20%20%7B%7D%0A%20%20%20%20%20%20%20%20%20%20%20%20%29.addTo%28map_446010495b2e4dc590981511154173a2%29%3B%0A%20%20%20%20%20%20%20%20%0A%20%20%20%20%0A%20%20%20%20%20%20%20%20%20%20%20%20var%20div_icon_bdac28a7b5354f3080fb73b32d0025f1%20%3D%20L.divIcon%28%7B%22className%22%3A%20%22empty%22%2C%20%22html%22%3A%20%22%5Cu003cdiv%20style%3D%5C%22font-size%3A%2012%3B%20color%3A%23d35400%3B%5C%22%5Cu003e%5Cu003cb%5Cu003eSan%20Francisco%20International%5Cu003c/b%5Cu003e%5Cu003c/div%5Cu003e%22%2C%20%22iconAnchor%22%3A%20%5B0%2C%200%5D%2C%20%22iconSize%22%3A%20%5B20%2C%2020%5D%7D%29%3B%0A%20%20%20%20%20%20%20%20%20%20%20%20marker_4a4d8dd5b0ef4e4e8af433b2efd18a9e.setIcon%28div_icon_bdac28a7b5354f3080fb73b32d0025f1%29%3B%0A%20%20%20%20%20%20%20%20%0A%20%20%20%20%0A%20%20%20%20%20%20%20%20%20%20%20%20var%20poly_line_7c0944dceff649ebb3240cfed5495f8e%20%3D%20L.polyline%28%0A%20%20%20%20%20%20%20%20%20%20%20%20%20%20%20%20%5B%5B37.61900194%2C%20-122.3748433%5D%2C%20%5B41.9796%2C%20-87.90446%5D%5D%2C%0A%20%20%20%20%20%20%20%20%20%20%20%20%20%20%20%20%7B%22bubblingMouseEvents%22%3A%20true%2C%20%22color%22%3A%20%5B%22red%22%5D%2C%20%22dashArray%22%3A%20null%2C%20%22dashOffset%22%3A%20null%2C%20%22fill%22%3A%20false%2C%20%22fillColor%22%3A%20%5B%22red%22%5D%2C%20%22fillOpacity%22%3A%200.2%2C%20%22fillRule%22%3A%20%22evenodd%22%2C%20%22lineCap%22%3A%20%22round%22%2C%20%22lineJoin%22%3A%20%22round%22%2C%20%22noClip%22%3A%20false%2C%20%22opacity%22%3A%201.0%2C%20%22smoothFactor%22%3A%201.0%2C%20%22stroke%22%3A%20true%2C%20%22weight%22%3A%203%7D%0A%20%20%20%20%20%20%20%20%20%20%20%20%29.addTo%28map_446010495b2e4dc590981511154173a2%29%3B%0A%20%20%20%20%20%20%20%20%0A%20%20%20%20%0A%20%20%20%20%20%20%20%20%20%20%20%20var%20circle_ec4367c19b144eeb9d786ac7ba456968%20%3D%20L.circle%28%0A%20%20%20%20%20%20%20%20%20%20%20%20%20%20%20%20%5B37.61900194%2C%20-122.3748433%5D%2C%0A%20%20%20%20%20%20%20%20%20%20%20%20%20%20%20%20%7B%22bubblingMouseEvents%22%3A%20true%2C%20%22color%22%3A%20%22%23d35400%22%2C%20%22dashArray%22%3A%20null%2C%20%22dashOffset%22%3A%20null%2C%20%22fill%22%3A%20true%2C%20%22fillColor%22%3A%20%22%23d35400%22%2C%20%22fillOpacity%22%3A%200.2%2C%20%22fillRule%22%3A%20%22evenodd%22%2C%20%22lineCap%22%3A%20%22round%22%2C%20%22lineJoin%22%3A%20%22round%22%2C%20%22opacity%22%3A%201.0%2C%20%22radius%22%3A%20100%2C%20%22stroke%22%3A%20true%2C%20%22weight%22%3A%203%7D%0A%20%20%20%20%20%20%20%20%20%20%20%20%29.addTo%28map_446010495b2e4dc590981511154173a2%29%3B%0A%20%20%20%20%20%20%20%20%0A%20%20%20%20%0A%20%20%20%20%20%20%20%20var%20popup_a1df2a87c20947c896f3773bc6becc01%20%3D%20L.popup%28%7B%22maxWidth%22%3A%20%22100%25%22%7D%29%3B%0A%0A%20%20%20%20%20%20%20%20%0A%20%20%20%20%20%20%20%20%20%20%20%20var%20html_0019beebb02544229d016dc5a50dd653%20%3D%20%24%28%60%3Cdiv%20id%3D%22html_0019beebb02544229d016dc5a50dd653%22%20style%3D%22width%3A%20100.0%25%3B%20height%3A%20100.0%25%3B%22%3ESan%20Francisco%20International%3C/div%3E%60%29%5B0%5D%3B%0A%20%20%20%20%20%20%20%20%20%20%20%20popup_a1df2a87c20947c896f3773bc6becc01.setContent%28html_0019beebb02544229d016dc5a50dd653%29%3B%0A%20%20%20%20%20%20%20%20%0A%0A%20%20%20%20%20%20%20%20circle_ec4367c19b144eeb9d786ac7ba456968.bindPopup%28popup_a1df2a87c20947c896f3773bc6becc01%29%0A%20%20%20%20%20%20%20%20%3B%0A%0A%20%20%20%20%20%20%20%20%0A%20%20%20%20%0A%20%20%20%20%0A%20%20%20%20%20%20%20%20%20%20%20%20var%20marker_ca84026250014d31bdd5acaaa20e255b%20%3D%20L.marker%28%0A%20%20%20%20%20%20%20%20%20%20%20%20%20%20%20%20%5B37.61900194%2C%20-122.3748433%5D%2C%0A%20%20%20%20%20%20%20%20%20%20%20%20%20%20%20%20%7B%7D%0A%20%20%20%20%20%20%20%20%20%20%20%20%29.addTo%28map_446010495b2e4dc590981511154173a2%29%3B%0A%20%20%20%20%20%20%20%20%0A%20%20%20%20%0A%20%20%20%20%20%20%20%20%20%20%20%20var%20div_icon_1923353fbff64261aa1b50652febe916%20%3D%20L.divIcon%28%7B%22className%22%3A%20%22empty%22%2C%20%22html%22%3A%20%22%5Cu003cdiv%20style%3D%5C%22font-size%3A%2012%3B%20color%3A%23d35400%3B%5C%22%5Cu003e%5Cu003cb%5Cu003eSan%20Francisco%20International%5Cu003c/b%5Cu003e%5Cu003c/div%5Cu003e%22%2C%20%22iconAnchor%22%3A%20%5B0%2C%200%5D%2C%20%22iconSize%22%3A%20%5B20%2C%2020%5D%7D%29%3B%0A%20%20%20%20%20%20%20%20%20%20%20%20marker_ca84026250014d31bdd5acaaa20e255b.setIcon%28div_icon_1923353fbff64261aa1b50652febe916%29%3B%0A%20%20%20%20%20%20%20%20%0A%20%20%20%20%0A%20%20%20%20%20%20%20%20%20%20%20%20var%20poly_line_efcbccffb1a64a199a85d27f5692b2dd%20%3D%20L.polyline%28%0A%20%20%20%20%20%20%20%20%20%20%20%20%20%20%20%20%5B%5B37.61900194%2C%20-122.3748433%5D%2C%20%5B41.9796%2C%20-87.90446%5D%5D%2C%0A%20%20%20%20%20%20%20%20%20%20%20%20%20%20%20%20%7B%22bubblingMouseEvents%22%3A%20true%2C%20%22color%22%3A%20%5B%22red%22%5D%2C%20%22dashArray%22%3A%20null%2C%20%22dashOffset%22%3A%20null%2C%20%22fill%22%3A%20false%2C%20%22fillColor%22%3A%20%5B%22red%22%5D%2C%20%22fillOpacity%22%3A%200.2%2C%20%22fillRule%22%3A%20%22evenodd%22%2C%20%22lineCap%22%3A%20%22round%22%2C%20%22lineJoin%22%3A%20%22round%22%2C%20%22noClip%22%3A%20false%2C%20%22opacity%22%3A%201.0%2C%20%22smoothFactor%22%3A%201.0%2C%20%22stroke%22%3A%20true%2C%20%22weight%22%3A%203%7D%0A%20%20%20%20%20%20%20%20%20%20%20%20%29.addTo%28map_446010495b2e4dc590981511154173a2%29%3B%0A%20%20%20%20%20%20%20%20%0A%20%20%20%20%0A%20%20%20%20%20%20%20%20%20%20%20%20var%20circle_159c5a6612c84a15a45a137469bc2349%20%3D%20L.circle%28%0A%20%20%20%20%20%20%20%20%20%20%20%20%20%20%20%20%5B37.61900194%2C%20-122.3748433%5D%2C%0A%20%20%20%20%20%20%20%20%20%20%20%20%20%20%20%20%7B%22bubblingMouseEvents%22%3A%20true%2C%20%22color%22%3A%20%22%23d35400%22%2C%20%22dashArray%22%3A%20null%2C%20%22dashOffset%22%3A%20null%2C%20%22fill%22%3A%20true%2C%20%22fillColor%22%3A%20%22%23d35400%22%2C%20%22fillOpacity%22%3A%200.2%2C%20%22fillRule%22%3A%20%22evenodd%22%2C%20%22lineCap%22%3A%20%22round%22%2C%20%22lineJoin%22%3A%20%22round%22%2C%20%22opacity%22%3A%201.0%2C%20%22radius%22%3A%20100%2C%20%22stroke%22%3A%20true%2C%20%22weight%22%3A%203%7D%0A%20%20%20%20%20%20%20%20%20%20%20%20%29.addTo%28map_446010495b2e4dc590981511154173a2%29%3B%0A%20%20%20%20%20%20%20%20%0A%20%20%20%20%0A%20%20%20%20%20%20%20%20var%20popup_8e04b8f2c6704d15abb6fc09a7462d8d%20%3D%20L.popup%28%7B%22maxWidth%22%3A%20%22100%25%22%7D%29%3B%0A%0A%20%20%20%20%20%20%20%20%0A%20%20%20%20%20%20%20%20%20%20%20%20var%20html_ff18771c45094ccea199881b4015384a%20%3D%20%24%28%60%3Cdiv%20id%3D%22html_ff18771c45094ccea199881b4015384a%22%20style%3D%22width%3A%20100.0%25%3B%20height%3A%20100.0%25%3B%22%3ESan%20Francisco%20International%3C/div%3E%60%29%5B0%5D%3B%0A%20%20%20%20%20%20%20%20%20%20%20%20popup_8e04b8f2c6704d15abb6fc09a7462d8d.setContent%28html_ff18771c45094ccea199881b4015384a%29%3B%0A%20%20%20%20%20%20%20%20%0A%0A%20%20%20%20%20%20%20%20circle_159c5a6612c84a15a45a137469bc2349.bindPopup%28popup_8e04b8f2c6704d15abb6fc09a7462d8d%29%0A%20%20%20%20%20%20%20%20%3B%0A%0A%20%20%20%20%20%20%20%20%0A%20%20%20%20%0A%20%20%20%20%0A%20%20%20%20%20%20%20%20%20%20%20%20var%20marker_8c9b3870f9c34a5fb877cd3d3708b164%20%3D%20L.marker%28%0A%20%20%20%20%20%20%20%20%20%20%20%20%20%20%20%20%5B37.61900194%2C%20-122.3748433%5D%2C%0A%20%20%20%20%20%20%20%20%20%20%20%20%20%20%20%20%7B%7D%0A%20%20%20%20%20%20%20%20%20%20%20%20%29.addTo%28map_446010495b2e4dc590981511154173a2%29%3B%0A%20%20%20%20%20%20%20%20%0A%20%20%20%20%0A%20%20%20%20%20%20%20%20%20%20%20%20var%20div_icon_c0aaa5d8ad3343c3b74a5f30bb652cb5%20%3D%20L.divIcon%28%7B%22className%22%3A%20%22empty%22%2C%20%22html%22%3A%20%22%5Cu003cdiv%20style%3D%5C%22font-size%3A%2012%3B%20color%3A%23d35400%3B%5C%22%5Cu003e%5Cu003cb%5Cu003eSan%20Francisco%20International%5Cu003c/b%5Cu003e%5Cu003c/div%5Cu003e%22%2C%20%22iconAnchor%22%3A%20%5B0%2C%200%5D%2C%20%22iconSize%22%3A%20%5B20%2C%2020%5D%7D%29%3B%0A%20%20%20%20%20%20%20%20%20%20%20%20marker_8c9b3870f9c34a5fb877cd3d3708b164.setIcon%28div_icon_c0aaa5d8ad3343c3b74a5f30bb652cb5%29%3B%0A%20%20%20%20%20%20%20%20%0A%20%20%20%20%0A%20%20%20%20%20%20%20%20%20%20%20%20var%20poly_line_48d13fe98bc44945bd553bd90d5b363a%20%3D%20L.polyline%28%0A%20%20%20%20%20%20%20%20%20%20%20%20%20%20%20%20%5B%5B37.61900194%2C%20-122.3748433%5D%2C%20%5B41.9796%2C%20-87.90446%5D%5D%2C%0A%20%20%20%20%20%20%20%20%20%20%20%20%20%20%20%20%7B%22bubblingMouseEvents%22%3A%20true%2C%20%22color%22%3A%20%5B%22red%22%5D%2C%20%22dashArray%22%3A%20null%2C%20%22dashOffset%22%3A%20null%2C%20%22fill%22%3A%20false%2C%20%22fillColor%22%3A%20%5B%22red%22%5D%2C%20%22fillOpacity%22%3A%200.2%2C%20%22fillRule%22%3A%20%22evenodd%22%2C%20%22lineCap%22%3A%20%22round%22%2C%20%22lineJoin%22%3A%20%22round%22%2C%20%22noClip%22%3A%20false%2C%20%22opacity%22%3A%201.0%2C%20%22smoothFactor%22%3A%201.0%2C%20%22stroke%22%3A%20true%2C%20%22weight%22%3A%203%7D%0A%20%20%20%20%20%20%20%20%20%20%20%20%29.addTo%28map_446010495b2e4dc590981511154173a2%29%3B%0A%20%20%20%20%20%20%20%20%0A%20%20%20%20%0A%20%20%20%20%20%20%20%20%20%20%20%20var%20circle_1ee30de7955945938b3884801bd1f6b7%20%3D%20L.circle%28%0A%20%20%20%20%20%20%20%20%20%20%20%20%20%20%20%20%5B40.77724306%2C%20-73.87260917%5D%2C%0A%20%20%20%20%20%20%20%20%20%20%20%20%20%20%20%20%7B%22bubblingMouseEvents%22%3A%20true%2C%20%22color%22%3A%20%22%23d35400%22%2C%20%22dashArray%22%3A%20null%2C%20%22dashOffset%22%3A%20null%2C%20%22fill%22%3A%20true%2C%20%22fillColor%22%3A%20%22%23d35400%22%2C%20%22fillOpacity%22%3A%200.2%2C%20%22fillRule%22%3A%20%22evenodd%22%2C%20%22lineCap%22%3A%20%22round%22%2C%20%22lineJoin%22%3A%20%22round%22%2C%20%22opacity%22%3A%201.0%2C%20%22radius%22%3A%20100%2C%20%22stroke%22%3A%20true%2C%20%22weight%22%3A%203%7D%0A%20%20%20%20%20%20%20%20%20%20%20%20%29.addTo%28map_446010495b2e4dc590981511154173a2%29%3B%0A%20%20%20%20%20%20%20%20%0A%20%20%20%20%0A%20%20%20%20%20%20%20%20var%20popup_a846f77ba0ce4140a78a264c39802cf4%20%3D%20L.popup%28%7B%22maxWidth%22%3A%20%22100%25%22%7D%29%3B%0A%0A%20%20%20%20%20%20%20%20%0A%20%20%20%20%20%20%20%20%20%20%20%20var%20html_098c497ed2e44c248ecddec454de9252%20%3D%20%24%28%60%3Cdiv%20id%3D%22html_098c497ed2e44c248ecddec454de9252%22%20style%3D%22width%3A%20100.0%25%3B%20height%3A%20100.0%25%3B%22%3ELaGuardia%3C/div%3E%60%29%5B0%5D%3B%0A%20%20%20%20%20%20%20%20%20%20%20%20popup_a846f77ba0ce4140a78a264c39802cf4.setContent%28html_098c497ed2e44c248ecddec454de9252%29%3B%0A%20%20%20%20%20%20%20%20%0A%0A%20%20%20%20%20%20%20%20circle_1ee30de7955945938b3884801bd1f6b7.bindPopup%28popup_a846f77ba0ce4140a78a264c39802cf4%29%0A%20%20%20%20%20%20%20%20%3B%0A%0A%20%20%20%20%20%20%20%20%0A%20%20%20%20%0A%20%20%20%20%0A%20%20%20%20%20%20%20%20%20%20%20%20var%20marker_4fdd3dfb21a64c0299ab43ee867dbbd5%20%3D%20L.marker%28%0A%20%20%20%20%20%20%20%20%20%20%20%20%20%20%20%20%5B40.77724306%2C%20-73.87260917%5D%2C%0A%20%20%20%20%20%20%20%20%20%20%20%20%20%20%20%20%7B%7D%0A%20%20%20%20%20%20%20%20%20%20%20%20%29.addTo%28map_446010495b2e4dc590981511154173a2%29%3B%0A%20%20%20%20%20%20%20%20%0A%20%20%20%20%0A%20%20%20%20%20%20%20%20%20%20%20%20var%20div_icon_52ecaeb8b3144c9ca139652c09bc32ce%20%3D%20L.divIcon%28%7B%22className%22%3A%20%22empty%22%2C%20%22html%22%3A%20%22%5Cu003cdiv%20style%3D%5C%22font-size%3A%2012%3B%20color%3A%23d35400%3B%5C%22%5Cu003e%5Cu003cb%5Cu003eLaGuardia%5Cu003c/b%5Cu003e%5Cu003c/div%5Cu003e%22%2C%20%22iconAnchor%22%3A%20%5B0%2C%200%5D%2C%20%22iconSize%22%3A%20%5B20%2C%2020%5D%7D%29%3B%0A%20%20%20%20%20%20%20%20%20%20%20%20marker_4fdd3dfb21a64c0299ab43ee867dbbd5.setIcon%28div_icon_52ecaeb8b3144c9ca139652c09bc32ce%29%3B%0A%20%20%20%20%20%20%20%20%0A%20%20%20%20%0A%20%20%20%20%20%20%20%20%20%20%20%20var%20poly_line_64fafdef317c472da4653e55a9aef9cb%20%3D%20L.polyline%28%0A%20%20%20%20%20%20%20%20%20%20%20%20%20%20%20%20%5B%5B40.77724306%2C%20-73.87260917%5D%2C%20%5B41.9796%2C%20-87.90446%5D%5D%2C%0A%20%20%20%20%20%20%20%20%20%20%20%20%20%20%20%20%7B%22bubblingMouseEvents%22%3A%20true%2C%20%22color%22%3A%20%5B%22red%22%5D%2C%20%22dashArray%22%3A%20null%2C%20%22dashOffset%22%3A%20null%2C%20%22fill%22%3A%20false%2C%20%22fillColor%22%3A%20%5B%22red%22%5D%2C%20%22fillOpacity%22%3A%200.2%2C%20%22fillRule%22%3A%20%22evenodd%22%2C%20%22lineCap%22%3A%20%22round%22%2C%20%22lineJoin%22%3A%20%22round%22%2C%20%22noClip%22%3A%20false%2C%20%22opacity%22%3A%201.0%2C%20%22smoothFactor%22%3A%201.0%2C%20%22stroke%22%3A%20true%2C%20%22weight%22%3A%203%7D%0A%20%20%20%20%20%20%20%20%20%20%20%20%29.addTo%28map_446010495b2e4dc590981511154173a2%29%3B%0A%20%20%20%20%20%20%20%20%0A%20%20%20%20%0A%20%20%20%20%20%20%20%20%20%20%20%20var%20circle_85fde58b03d442cabb1f1f129aedbcc5%20%3D%20L.circle%28%0A%20%20%20%20%20%20%20%20%20%20%20%20%20%20%20%20%5B40.77724306%2C%20-73.87260917%5D%2C%0A%20%20%20%20%20%20%20%20%20%20%20%20%20%20%20%20%7B%22bubblingMouseEvents%22%3A%20true%2C%20%22color%22%3A%20%22%23d35400%22%2C%20%22dashArray%22%3A%20null%2C%20%22dashOffset%22%3A%20null%2C%20%22fill%22%3A%20true%2C%20%22fillColor%22%3A%20%22%23d35400%22%2C%20%22fillOpacity%22%3A%200.2%2C%20%22fillRule%22%3A%20%22evenodd%22%2C%20%22lineCap%22%3A%20%22round%22%2C%20%22lineJoin%22%3A%20%22round%22%2C%20%22opacity%22%3A%201.0%2C%20%22radius%22%3A%20100%2C%20%22stroke%22%3A%20true%2C%20%22weight%22%3A%203%7D%0A%20%20%20%20%20%20%20%20%20%20%20%20%29.addTo%28map_446010495b2e4dc590981511154173a2%29%3B%0A%20%20%20%20%20%20%20%20%0A%20%20%20%20%0A%20%20%20%20%20%20%20%20var%20popup_8d3c5b1842d142ea8ed224555153f36f%20%3D%20L.popup%28%7B%22maxWidth%22%3A%20%22100%25%22%7D%29%3B%0A%0A%20%20%20%20%20%20%20%20%0A%20%20%20%20%20%20%20%20%20%20%20%20var%20html_6e4f70b1978c4f7d803deef5b2010f1d%20%3D%20%24%28%60%3Cdiv%20id%3D%22html_6e4f70b1978c4f7d803deef5b2010f1d%22%20style%3D%22width%3A%20100.0%25%3B%20height%3A%20100.0%25%3B%22%3ELaGuardia%3C/div%3E%60%29%5B0%5D%3B%0A%20%20%20%20%20%20%20%20%20%20%20%20popup_8d3c5b1842d142ea8ed224555153f36f.setContent%28html_6e4f70b1978c4f7d803deef5b2010f1d%29%3B%0A%20%20%20%20%20%20%20%20%0A%0A%20%20%20%20%20%20%20%20circle_85fde58b03d442cabb1f1f129aedbcc5.bindPopup%28popup_8d3c5b1842d142ea8ed224555153f36f%29%0A%20%20%20%20%20%20%20%20%3B%0A%0A%20%20%20%20%20%20%20%20%0A%20%20%20%20%0A%20%20%20%20%0A%20%20%20%20%20%20%20%20%20%20%20%20var%20marker_301bf311374742c994e4f21af6641d97%20%3D%20L.marker%28%0A%20%20%20%20%20%20%20%20%20%20%20%20%20%20%20%20%5B40.77724306%2C%20-73.87260917%5D%2C%0A%20%20%20%20%20%20%20%20%20%20%20%20%20%20%20%20%7B%7D%0A%20%20%20%20%20%20%20%20%20%20%20%20%29.addTo%28map_446010495b2e4dc590981511154173a2%29%3B%0A%20%20%20%20%20%20%20%20%0A%20%20%20%20%0A%20%20%20%20%20%20%20%20%20%20%20%20var%20div_icon_2b9c839adb4c4eef9f20455ecc5ebad4%20%3D%20L.divIcon%28%7B%22className%22%3A%20%22empty%22%2C%20%22html%22%3A%20%22%5Cu003cdiv%20style%3D%5C%22font-size%3A%2012%3B%20color%3A%23d35400%3B%5C%22%5Cu003e%5Cu003cb%5Cu003eLaGuardia%5Cu003c/b%5Cu003e%5Cu003c/div%5Cu003e%22%2C%20%22iconAnchor%22%3A%20%5B0%2C%200%5D%2C%20%22iconSize%22%3A%20%5B20%2C%2020%5D%7D%29%3B%0A%20%20%20%20%20%20%20%20%20%20%20%20marker_301bf311374742c994e4f21af6641d97.setIcon%28div_icon_2b9c839adb4c4eef9f20455ecc5ebad4%29%3B%0A%20%20%20%20%20%20%20%20%0A%20%20%20%20%0A%20%20%20%20%20%20%20%20%20%20%20%20var%20poly_line_1bdd5ef1ec89449d9ccb470529a062fd%20%3D%20L.polyline%28%0A%20%20%20%20%20%20%20%20%20%20%20%20%20%20%20%20%5B%5B40.77724306%2C%20-73.87260917%5D%2C%20%5B41.9796%2C%20-87.90446%5D%5D%2C%0A%20%20%20%20%20%20%20%20%20%20%20%20%20%20%20%20%7B%22bubblingMouseEvents%22%3A%20true%2C%20%22color%22%3A%20%5B%22red%22%5D%2C%20%22dashArray%22%3A%20null%2C%20%22dashOffset%22%3A%20null%2C%20%22fill%22%3A%20false%2C%20%22fillColor%22%3A%20%5B%22red%22%5D%2C%20%22fillOpacity%22%3A%200.2%2C%20%22fillRule%22%3A%20%22evenodd%22%2C%20%22lineCap%22%3A%20%22round%22%2C%20%22lineJoin%22%3A%20%22round%22%2C%20%22noClip%22%3A%20false%2C%20%22opacity%22%3A%201.0%2C%20%22smoothFactor%22%3A%201.0%2C%20%22stroke%22%3A%20true%2C%20%22weight%22%3A%203%7D%0A%20%20%20%20%20%20%20%20%20%20%20%20%29.addTo%28map_446010495b2e4dc590981511154173a2%29%3B%0A%20%20%20%20%20%20%20%20%0A%20%20%20%20%0A%20%20%20%20%20%20%20%20%20%20%20%20var%20circle_fa7c158825194359b120a70d33118050%20%3D%20L.circle%28%0A%20%20%20%20%20%20%20%20%20%20%20%20%20%20%20%20%5B40.77724306%2C%20-73.87260917%5D%2C%0A%20%20%20%20%20%20%20%20%20%20%20%20%20%20%20%20%7B%22bubblingMouseEvents%22%3A%20true%2C%20%22color%22%3A%20%22%23d35400%22%2C%20%22dashArray%22%3A%20null%2C%20%22dashOffset%22%3A%20null%2C%20%22fill%22%3A%20true%2C%20%22fillColor%22%3A%20%22%23d35400%22%2C%20%22fillOpacity%22%3A%200.2%2C%20%22fillRule%22%3A%20%22evenodd%22%2C%20%22lineCap%22%3A%20%22round%22%2C%20%22lineJoin%22%3A%20%22round%22%2C%20%22opacity%22%3A%201.0%2C%20%22radius%22%3A%20100%2C%20%22stroke%22%3A%20true%2C%20%22weight%22%3A%203%7D%0A%20%20%20%20%20%20%20%20%20%20%20%20%29.addTo%28map_446010495b2e4dc590981511154173a2%29%3B%0A%20%20%20%20%20%20%20%20%0A%20%20%20%20%0A%20%20%20%20%20%20%20%20var%20popup_a9c007c128b94be69fa25e2fc0b13aca%20%3D%20L.popup%28%7B%22maxWidth%22%3A%20%22100%25%22%7D%29%3B%0A%0A%20%20%20%20%20%20%20%20%0A%20%20%20%20%20%20%20%20%20%20%20%20var%20html_2e4e0a53a5e74362b6d65109c998c9fb%20%3D%20%24%28%60%3Cdiv%20id%3D%22html_2e4e0a53a5e74362b6d65109c998c9fb%22%20style%3D%22width%3A%20100.0%25%3B%20height%3A%20100.0%25%3B%22%3ELaGuardia%3C/div%3E%60%29%5B0%5D%3B%0A%20%20%20%20%20%20%20%20%20%20%20%20popup_a9c007c128b94be69fa25e2fc0b13aca.setContent%28html_2e4e0a53a5e74362b6d65109c998c9fb%29%3B%0A%20%20%20%20%20%20%20%20%0A%0A%20%20%20%20%20%20%20%20circle_fa7c158825194359b120a70d33118050.bindPopup%28popup_a9c007c128b94be69fa25e2fc0b13aca%29%0A%20%20%20%20%20%20%20%20%3B%0A%0A%20%20%20%20%20%20%20%20%0A%20%20%20%20%0A%20%20%20%20%0A%20%20%20%20%20%20%20%20%20%20%20%20var%20marker_bb88e76dce7e41fc8f97812f29b4f5b9%20%3D%20L.marker%28%0A%20%20%20%20%20%20%20%20%20%20%20%20%20%20%20%20%5B40.77724306%2C%20-73.87260917%5D%2C%0A%20%20%20%20%20%20%20%20%20%20%20%20%20%20%20%20%7B%7D%0A%20%20%20%20%20%20%20%20%20%20%20%20%29.addTo%28map_446010495b2e4dc590981511154173a2%29%3B%0A%20%20%20%20%20%20%20%20%0A%20%20%20%20%0A%20%20%20%20%20%20%20%20%20%20%20%20var%20div_icon_50d1abc0bf41460cb9835bdc4a51c952%20%3D%20L.divIcon%28%7B%22className%22%3A%20%22empty%22%2C%20%22html%22%3A%20%22%5Cu003cdiv%20style%3D%5C%22font-size%3A%2012%3B%20color%3A%23d35400%3B%5C%22%5Cu003e%5Cu003cb%5Cu003eLaGuardia%5Cu003c/b%5Cu003e%5Cu003c/div%5Cu003e%22%2C%20%22iconAnchor%22%3A%20%5B0%2C%200%5D%2C%20%22iconSize%22%3A%20%5B20%2C%2020%5D%7D%29%3B%0A%20%20%20%20%20%20%20%20%20%20%20%20marker_bb88e76dce7e41fc8f97812f29b4f5b9.setIcon%28div_icon_50d1abc0bf41460cb9835bdc4a51c952%29%3B%0A%20%20%20%20%20%20%20%20%0A%20%20%20%20%0A%20%20%20%20%20%20%20%20%20%20%20%20var%20poly_line_1194f24826a0425681fea6da6c6f41d8%20%3D%20L.polyline%28%0A%20%20%20%20%20%20%20%20%20%20%20%20%20%20%20%20%5B%5B40.77724306%2C%20-73.87260917%5D%2C%20%5B41.9796%2C%20-87.90446%5D%5D%2C%0A%20%20%20%20%20%20%20%20%20%20%20%20%20%20%20%20%7B%22bubblingMouseEvents%22%3A%20true%2C%20%22color%22%3A%20%5B%22green%22%5D%2C%20%22dashArray%22%3A%20null%2C%20%22dashOffset%22%3A%20null%2C%20%22fill%22%3A%20false%2C%20%22fillColor%22%3A%20%5B%22green%22%5D%2C%20%22fillOpacity%22%3A%200.2%2C%20%22fillRule%22%3A%20%22evenodd%22%2C%20%22lineCap%22%3A%20%22round%22%2C%20%22lineJoin%22%3A%20%22round%22%2C%20%22noClip%22%3A%20false%2C%20%22opacity%22%3A%201.0%2C%20%22smoothFactor%22%3A%201.0%2C%20%22stroke%22%3A%20true%2C%20%22weight%22%3A%203%7D%0A%20%20%20%20%20%20%20%20%20%20%20%20%29.addTo%28map_446010495b2e4dc590981511154173a2%29%3B%0A%20%20%20%20%20%20%20%20%0A%20%20%20%20%0A%20%20%20%20%20%20%20%20%20%20%20%20var%20circle_ecaa8919a2c042f981c9fd898aa7c10c%20%3D%20L.circle%28%0A%20%20%20%20%20%20%20%20%20%20%20%20%20%20%20%20%5B47.44898194%2C%20-122.3093131%5D%2C%0A%20%20%20%20%20%20%20%20%20%20%20%20%20%20%20%20%7B%22bubblingMouseEvents%22%3A%20true%2C%20%22color%22%3A%20%22%23d35400%22%2C%20%22dashArray%22%3A%20null%2C%20%22dashOffset%22%3A%20null%2C%20%22fill%22%3A%20true%2C%20%22fillColor%22%3A%20%22%23d35400%22%2C%20%22fillOpacity%22%3A%200.2%2C%20%22fillRule%22%3A%20%22evenodd%22%2C%20%22lineCap%22%3A%20%22round%22%2C%20%22lineJoin%22%3A%20%22round%22%2C%20%22opacity%22%3A%201.0%2C%20%22radius%22%3A%20100%2C%20%22stroke%22%3A%20true%2C%20%22weight%22%3A%203%7D%0A%20%20%20%20%20%20%20%20%20%20%20%20%29.addTo%28map_446010495b2e4dc590981511154173a2%29%3B%0A%20%20%20%20%20%20%20%20%0A%20%20%20%20%0A%20%20%20%20%20%20%20%20var%20popup_3700b00f725740b69171b1540ad0a1a8%20%3D%20L.popup%28%7B%22maxWidth%22%3A%20%22100%25%22%7D%29%3B%0A%0A%20%20%20%20%20%20%20%20%0A%20%20%20%20%20%20%20%20%20%20%20%20var%20html_c3783b23a3bc4d71a486c1a206450497%20%3D%20%24%28%60%3Cdiv%20id%3D%22html_c3783b23a3bc4d71a486c1a206450497%22%20style%3D%22width%3A%20100.0%25%3B%20height%3A%20100.0%25%3B%22%3ESeattle-Tacoma%20Intl%3C/div%3E%60%29%5B0%5D%3B%0A%20%20%20%20%20%20%20%20%20%20%20%20popup_3700b00f725740b69171b1540ad0a1a8.setContent%28html_c3783b23a3bc4d71a486c1a206450497%29%3B%0A%20%20%20%20%20%20%20%20%0A%0A%20%20%20%20%20%20%20%20circle_ecaa8919a2c042f981c9fd898aa7c10c.bindPopup%28popup_3700b00f725740b69171b1540ad0a1a8%29%0A%20%20%20%20%20%20%20%20%3B%0A%0A%20%20%20%20%20%20%20%20%0A%20%20%20%20%0A%20%20%20%20%0A%20%20%20%20%20%20%20%20%20%20%20%20var%20marker_bd5cf729689b4a4d90410e1e40fcf2fe%20%3D%20L.marker%28%0A%20%20%20%20%20%20%20%20%20%20%20%20%20%20%20%20%5B47.44898194%2C%20-122.3093131%5D%2C%0A%20%20%20%20%20%20%20%20%20%20%20%20%20%20%20%20%7B%7D%0A%20%20%20%20%20%20%20%20%20%20%20%20%29.addTo%28map_446010495b2e4dc590981511154173a2%29%3B%0A%20%20%20%20%20%20%20%20%0A%20%20%20%20%0A%20%20%20%20%20%20%20%20%20%20%20%20var%20div_icon_719ae0faa00b494990bf4adbbeb6a1cb%20%3D%20L.divIcon%28%7B%22className%22%3A%20%22empty%22%2C%20%22html%22%3A%20%22%5Cu003cdiv%20style%3D%5C%22font-size%3A%2012%3B%20color%3A%23d35400%3B%5C%22%5Cu003e%5Cu003cb%5Cu003eSeattle-Tacoma%20Intl%5Cu003c/b%5Cu003e%5Cu003c/div%5Cu003e%22%2C%20%22iconAnchor%22%3A%20%5B0%2C%200%5D%2C%20%22iconSize%22%3A%20%5B20%2C%2020%5D%7D%29%3B%0A%20%20%20%20%20%20%20%20%20%20%20%20marker_bd5cf729689b4a4d90410e1e40fcf2fe.setIcon%28div_icon_719ae0faa00b494990bf4adbbeb6a1cb%29%3B%0A%20%20%20%20%20%20%20%20%0A%20%20%20%20%0A%20%20%20%20%20%20%20%20%20%20%20%20var%20poly_line_10e619ce4c444e6a8a17f9ed8572841e%20%3D%20L.polyline%28%0A%20%20%20%20%20%20%20%20%20%20%20%20%20%20%20%20%5B%5B47.44898194%2C%20-122.3093131%5D%2C%20%5B41.9796%2C%20-87.90446%5D%5D%2C%0A%20%20%20%20%20%20%20%20%20%20%20%20%20%20%20%20%7B%22bubblingMouseEvents%22%3A%20true%2C%20%22color%22%3A%20%5B%22red%22%5D%2C%20%22dashArray%22%3A%20null%2C%20%22dashOffset%22%3A%20null%2C%20%22fill%22%3A%20false%2C%20%22fillColor%22%3A%20%5B%22red%22%5D%2C%20%22fillOpacity%22%3A%200.2%2C%20%22fillRule%22%3A%20%22evenodd%22%2C%20%22lineCap%22%3A%20%22round%22%2C%20%22lineJoin%22%3A%20%22round%22%2C%20%22noClip%22%3A%20false%2C%20%22opacity%22%3A%201.0%2C%20%22smoothFactor%22%3A%201.0%2C%20%22stroke%22%3A%20true%2C%20%22weight%22%3A%203%7D%0A%20%20%20%20%20%20%20%20%20%20%20%20%29.addTo%28map_446010495b2e4dc590981511154173a2%29%3B%0A%20%20%20%20%20%20%20%20%0A%20%20%20%20%0A%20%20%20%20%20%20%20%20%20%20%20%20var%20circle_cc673143b3a14c05ad188f9f64059c97%20%3D%20L.circle%28%0A%20%20%20%20%20%20%20%20%20%20%20%20%20%20%20%20%5B47.44898194%2C%20-122.3093131%5D%2C%0A%20%20%20%20%20%20%20%20%20%20%20%20%20%20%20%20%7B%22bubblingMouseEvents%22%3A%20true%2C%20%22color%22%3A%20%22%23d35400%22%2C%20%22dashArray%22%3A%20null%2C%20%22dashOffset%22%3A%20null%2C%20%22fill%22%3A%20true%2C%20%22fillColor%22%3A%20%22%23d35400%22%2C%20%22fillOpacity%22%3A%200.2%2C%20%22fillRule%22%3A%20%22evenodd%22%2C%20%22lineCap%22%3A%20%22round%22%2C%20%22lineJoin%22%3A%20%22round%22%2C%20%22opacity%22%3A%201.0%2C%20%22radius%22%3A%20100%2C%20%22stroke%22%3A%20true%2C%20%22weight%22%3A%203%7D%0A%20%20%20%20%20%20%20%20%20%20%20%20%29.addTo%28map_446010495b2e4dc590981511154173a2%29%3B%0A%20%20%20%20%20%20%20%20%0A%20%20%20%20%0A%20%20%20%20%20%20%20%20var%20popup_65b641681ce24c0da2431ee0446a9406%20%3D%20L.popup%28%7B%22maxWidth%22%3A%20%22100%25%22%7D%29%3B%0A%0A%20%20%20%20%20%20%20%20%0A%20%20%20%20%20%20%20%20%20%20%20%20var%20html_997a86375fec4ec2b0a874112272094f%20%3D%20%24%28%60%3Cdiv%20id%3D%22html_997a86375fec4ec2b0a874112272094f%22%20style%3D%22width%3A%20100.0%25%3B%20height%3A%20100.0%25%3B%22%3ESeattle-Tacoma%20Intl%3C/div%3E%60%29%5B0%5D%3B%0A%20%20%20%20%20%20%20%20%20%20%20%20popup_65b641681ce24c0da2431ee0446a9406.setContent%28html_997a86375fec4ec2b0a874112272094f%29%3B%0A%20%20%20%20%20%20%20%20%0A%0A%20%20%20%20%20%20%20%20circle_cc673143b3a14c05ad188f9f64059c97.bindPopup%28popup_65b641681ce24c0da2431ee0446a9406%29%0A%20%20%20%20%20%20%20%20%3B%0A%0A%20%20%20%20%20%20%20%20%0A%20%20%20%20%0A%20%20%20%20%0A%20%20%20%20%20%20%20%20%20%20%20%20var%20marker_167a070bc43b4724a9b4c8b261fb842a%20%3D%20L.marker%28%0A%20%20%20%20%20%20%20%20%20%20%20%20%20%20%20%20%5B47.44898194%2C%20-122.3093131%5D%2C%0A%20%20%20%20%20%20%20%20%20%20%20%20%20%20%20%20%7B%7D%0A%20%20%20%20%20%20%20%20%20%20%20%20%29.addTo%28map_446010495b2e4dc590981511154173a2%29%3B%0A%20%20%20%20%20%20%20%20%0A%20%20%20%20%0A%20%20%20%20%20%20%20%20%20%20%20%20var%20div_icon_e39baece88d548b1bbf6b9af50886bf6%20%3D%20L.divIcon%28%7B%22className%22%3A%20%22empty%22%2C%20%22html%22%3A%20%22%5Cu003cdiv%20style%3D%5C%22font-size%3A%2012%3B%20color%3A%23d35400%3B%5C%22%5Cu003e%5Cu003cb%5Cu003eSeattle-Tacoma%20Intl%5Cu003c/b%5Cu003e%5Cu003c/div%5Cu003e%22%2C%20%22iconAnchor%22%3A%20%5B0%2C%200%5D%2C%20%22iconSize%22%3A%20%5B20%2C%2020%5D%7D%29%3B%0A%20%20%20%20%20%20%20%20%20%20%20%20marker_167a070bc43b4724a9b4c8b261fb842a.setIcon%28div_icon_e39baece88d548b1bbf6b9af50886bf6%29%3B%0A%20%20%20%20%20%20%20%20%0A%20%20%20%20%0A%20%20%20%20%20%20%20%20%20%20%20%20var%20poly_line_f0c924c20f8e43fdbba80255544fd6e5%20%3D%20L.polyline%28%0A%20%20%20%20%20%20%20%20%20%20%20%20%20%20%20%20%5B%5B47.44898194%2C%20-122.3093131%5D%2C%20%5B41.9796%2C%20-87.90446%5D%5D%2C%0A%20%20%20%20%20%20%20%20%20%20%20%20%20%20%20%20%7B%22bubblingMouseEvents%22%3A%20true%2C%20%22color%22%3A%20%5B%22red%22%5D%2C%20%22dashArray%22%3A%20null%2C%20%22dashOffset%22%3A%20null%2C%20%22fill%22%3A%20false%2C%20%22fillColor%22%3A%20%5B%22red%22%5D%2C%20%22fillOpacity%22%3A%200.2%2C%20%22fillRule%22%3A%20%22evenodd%22%2C%20%22lineCap%22%3A%20%22round%22%2C%20%22lineJoin%22%3A%20%22round%22%2C%20%22noClip%22%3A%20false%2C%20%22opacity%22%3A%201.0%2C%20%22smoothFactor%22%3A%201.0%2C%20%22stroke%22%3A%20true%2C%20%22weight%22%3A%203%7D%0A%20%20%20%20%20%20%20%20%20%20%20%20%29.addTo%28map_446010495b2e4dc590981511154173a2%29%3B%0A%20%20%20%20%20%20%20%20%0A%20%20%20%20%0A%20%20%20%20%20%20%20%20%20%20%20%20var%20circle_bfa4de9cf20b40ce902083932815d192%20%3D%20L.circle%28%0A%20%20%20%20%20%20%20%20%20%20%20%20%20%20%20%20%5B47.44898194%2C%20-122.3093131%5D%2C%0A%20%20%20%20%20%20%20%20%20%20%20%20%20%20%20%20%7B%22bubblingMouseEvents%22%3A%20true%2C%20%22color%22%3A%20%22%23d35400%22%2C%20%22dashArray%22%3A%20null%2C%20%22dashOffset%22%3A%20null%2C%20%22fill%22%3A%20true%2C%20%22fillColor%22%3A%20%22%23d35400%22%2C%20%22fillOpacity%22%3A%200.2%2C%20%22fillRule%22%3A%20%22evenodd%22%2C%20%22lineCap%22%3A%20%22round%22%2C%20%22lineJoin%22%3A%20%22round%22%2C%20%22opacity%22%3A%201.0%2C%20%22radius%22%3A%20100%2C%20%22stroke%22%3A%20true%2C%20%22weight%22%3A%203%7D%0A%20%20%20%20%20%20%20%20%20%20%20%20%29.addTo%28map_446010495b2e4dc590981511154173a2%29%3B%0A%20%20%20%20%20%20%20%20%0A%20%20%20%20%0A%20%20%20%20%20%20%20%20var%20popup_0ac1a439224542b6864e76e7653ba3f9%20%3D%20L.popup%28%7B%22maxWidth%22%3A%20%22100%25%22%7D%29%3B%0A%0A%20%20%20%20%20%20%20%20%0A%20%20%20%20%20%20%20%20%20%20%20%20var%20html_6e39d40f0ede417db80b57ab4a01bfbc%20%3D%20%24%28%60%3Cdiv%20id%3D%22html_6e39d40f0ede417db80b57ab4a01bfbc%22%20style%3D%22width%3A%20100.0%25%3B%20height%3A%20100.0%25%3B%22%3ESeattle-Tacoma%20Intl%3C/div%3E%60%29%5B0%5D%3B%0A%20%20%20%20%20%20%20%20%20%20%20%20popup_0ac1a439224542b6864e76e7653ba3f9.setContent%28html_6e39d40f0ede417db80b57ab4a01bfbc%29%3B%0A%20%20%20%20%20%20%20%20%0A%0A%20%20%20%20%20%20%20%20circle_bfa4de9cf20b40ce902083932815d192.bindPopup%28popup_0ac1a439224542b6864e76e7653ba3f9%29%0A%20%20%20%20%20%20%20%20%3B%0A%0A%20%20%20%20%20%20%20%20%0A%20%20%20%20%0A%20%20%20%20%0A%20%20%20%20%20%20%20%20%20%20%20%20var%20marker_604d7b8834614378ac2a1e5945f0e33d%20%3D%20L.marker%28%0A%20%20%20%20%20%20%20%20%20%20%20%20%20%20%20%20%5B47.44898194%2C%20-122.3093131%5D%2C%0A%20%20%20%20%20%20%20%20%20%20%20%20%20%20%20%20%7B%7D%0A%20%20%20%20%20%20%20%20%20%20%20%20%29.addTo%28map_446010495b2e4dc590981511154173a2%29%3B%0A%20%20%20%20%20%20%20%20%0A%20%20%20%20%0A%20%20%20%20%20%20%20%20%20%20%20%20var%20div_icon_53167e04947243a0bd097cb23262e21c%20%3D%20L.divIcon%28%7B%22className%22%3A%20%22empty%22%2C%20%22html%22%3A%20%22%5Cu003cdiv%20style%3D%5C%22font-size%3A%2012%3B%20color%3A%23d35400%3B%5C%22%5Cu003e%5Cu003cb%5Cu003eSeattle-Tacoma%20Intl%5Cu003c/b%5Cu003e%5Cu003c/div%5Cu003e%22%2C%20%22iconAnchor%22%3A%20%5B0%2C%200%5D%2C%20%22iconSize%22%3A%20%5B20%2C%2020%5D%7D%29%3B%0A%20%20%20%20%20%20%20%20%20%20%20%20marker_604d7b8834614378ac2a1e5945f0e33d.setIcon%28div_icon_53167e04947243a0bd097cb23262e21c%29%3B%0A%20%20%20%20%20%20%20%20%0A%20%20%20%20%0A%20%20%20%20%20%20%20%20%20%20%20%20var%20poly_line_17f89861444f4cb6a6fc52c8cbc36a45%20%3D%20L.polyline%28%0A%20%20%20%20%20%20%20%20%20%20%20%20%20%20%20%20%5B%5B47.44898194%2C%20-122.3093131%5D%2C%20%5B41.9796%2C%20-87.90446%5D%5D%2C%0A%20%20%20%20%20%20%20%20%20%20%20%20%20%20%20%20%7B%22bubblingMouseEvents%22%3A%20true%2C%20%22color%22%3A%20%5B%22red%22%5D%2C%20%22dashArray%22%3A%20null%2C%20%22dashOffset%22%3A%20null%2C%20%22fill%22%3A%20false%2C%20%22fillColor%22%3A%20%5B%22red%22%5D%2C%20%22fillOpacity%22%3A%200.2%2C%20%22fillRule%22%3A%20%22evenodd%22%2C%20%22lineCap%22%3A%20%22round%22%2C%20%22lineJoin%22%3A%20%22round%22%2C%20%22noClip%22%3A%20false%2C%20%22opacity%22%3A%201.0%2C%20%22smoothFactor%22%3A%201.0%2C%20%22stroke%22%3A%20true%2C%20%22weight%22%3A%203%7D%0A%20%20%20%20%20%20%20%20%20%20%20%20%29.addTo%28map_446010495b2e4dc590981511154173a2%29%3B%0A%20%20%20%20%20%20%20%20%0A%20%20%20%20%0A%20%20%20%20%20%20%20%20%20%20%20%20var%20circle_fbbdc7b887fb4951b5eae604ee74d2f4%20%3D%20L.circle%28%0A%20%20%20%20%20%20%20%20%20%20%20%20%20%20%20%20%5B32.73355611%2C%20-117.1896567%5D%2C%0A%20%20%20%20%20%20%20%20%20%20%20%20%20%20%20%20%7B%22bubblingMouseEvents%22%3A%20true%2C%20%22color%22%3A%20%22%23d35400%22%2C%20%22dashArray%22%3A%20null%2C%20%22dashOffset%22%3A%20null%2C%20%22fill%22%3A%20true%2C%20%22fillColor%22%3A%20%22%23d35400%22%2C%20%22fillOpacity%22%3A%200.2%2C%20%22fillRule%22%3A%20%22evenodd%22%2C%20%22lineCap%22%3A%20%22round%22%2C%20%22lineJoin%22%3A%20%22round%22%2C%20%22opacity%22%3A%201.0%2C%20%22radius%22%3A%20100%2C%20%22stroke%22%3A%20true%2C%20%22weight%22%3A%203%7D%0A%20%20%20%20%20%20%20%20%20%20%20%20%29.addTo%28map_446010495b2e4dc590981511154173a2%29%3B%0A%20%20%20%20%20%20%20%20%0A%20%20%20%20%0A%20%20%20%20%20%20%20%20var%20popup_1714f42a7eda4bdc9084c719aa2b12d8%20%3D%20L.popup%28%7B%22maxWidth%22%3A%20%22100%25%22%7D%29%3B%0A%0A%20%20%20%20%20%20%20%20%0A%20%20%20%20%20%20%20%20%20%20%20%20var%20html_e46e796cf61447a0ab17e7c0b3dec006%20%3D%20%24%28%60%3Cdiv%20id%3D%22html_e46e796cf61447a0ab17e7c0b3dec006%22%20style%3D%22width%3A%20100.0%25%3B%20height%3A%20100.0%25%3B%22%3ESan%20Diego%20International-Lindbergh%20%3C/div%3E%60%29%5B0%5D%3B%0A%20%20%20%20%20%20%20%20%20%20%20%20popup_1714f42a7eda4bdc9084c719aa2b12d8.setContent%28html_e46e796cf61447a0ab17e7c0b3dec006%29%3B%0A%20%20%20%20%20%20%20%20%0A%0A%20%20%20%20%20%20%20%20circle_fbbdc7b887fb4951b5eae604ee74d2f4.bindPopup%28popup_1714f42a7eda4bdc9084c719aa2b12d8%29%0A%20%20%20%20%20%20%20%20%3B%0A%0A%20%20%20%20%20%20%20%20%0A%20%20%20%20%0A%20%20%20%20%0A%20%20%20%20%20%20%20%20%20%20%20%20var%20marker_692f8b18e5724de7b2f5fd0ae3e4f86c%20%3D%20L.marker%28%0A%20%20%20%20%20%20%20%20%20%20%20%20%20%20%20%20%5B32.73355611%2C%20-117.1896567%5D%2C%0A%20%20%20%20%20%20%20%20%20%20%20%20%20%20%20%20%7B%7D%0A%20%20%20%20%20%20%20%20%20%20%20%20%29.addTo%28map_446010495b2e4dc590981511154173a2%29%3B%0A%20%20%20%20%20%20%20%20%0A%20%20%20%20%0A%20%20%20%20%20%20%20%20%20%20%20%20var%20div_icon_79c6ac8fda464ca1afcb517f1f15a44c%20%3D%20L.divIcon%28%7B%22className%22%3A%20%22empty%22%2C%20%22html%22%3A%20%22%5Cu003cdiv%20style%3D%5C%22font-size%3A%2012%3B%20color%3A%23d35400%3B%5C%22%5Cu003e%5Cu003cb%5Cu003eSan%20Diego%20International-Lindbergh%20%5Cu003c/b%5Cu003e%5Cu003c/div%5Cu003e%22%2C%20%22iconAnchor%22%3A%20%5B0%2C%200%5D%2C%20%22iconSize%22%3A%20%5B20%2C%2020%5D%7D%29%3B%0A%20%20%20%20%20%20%20%20%20%20%20%20marker_692f8b18e5724de7b2f5fd0ae3e4f86c.setIcon%28div_icon_79c6ac8fda464ca1afcb517f1f15a44c%29%3B%0A%20%20%20%20%20%20%20%20%0A%20%20%20%20%0A%20%20%20%20%20%20%20%20%20%20%20%20var%20poly_line_5680088e2d464da0b723db5d0cdda918%20%3D%20L.polyline%28%0A%20%20%20%20%20%20%20%20%20%20%20%20%20%20%20%20%5B%5B32.73355611%2C%20-117.1896567%5D%2C%20%5B41.9796%2C%20-87.90446%5D%5D%2C%0A%20%20%20%20%20%20%20%20%20%20%20%20%20%20%20%20%7B%22bubblingMouseEvents%22%3A%20true%2C%20%22color%22%3A%20%5B%22red%22%5D%2C%20%22dashArray%22%3A%20null%2C%20%22dashOffset%22%3A%20null%2C%20%22fill%22%3A%20false%2C%20%22fillColor%22%3A%20%5B%22red%22%5D%2C%20%22fillOpacity%22%3A%200.2%2C%20%22fillRule%22%3A%20%22evenodd%22%2C%20%22lineCap%22%3A%20%22round%22%2C%20%22lineJoin%22%3A%20%22round%22%2C%20%22noClip%22%3A%20false%2C%20%22opacity%22%3A%201.0%2C%20%22smoothFactor%22%3A%201.0%2C%20%22stroke%22%3A%20true%2C%20%22weight%22%3A%203%7D%0A%20%20%20%20%20%20%20%20%20%20%20%20%29.addTo%28map_446010495b2e4dc590981511154173a2%29%3B%0A%20%20%20%20%20%20%20%20%0A%20%20%20%20%0A%20%20%20%20%20%20%20%20%20%20%20%20var%20circle_5f9c17d787314facb764478fd6ae15f0%20%3D%20L.circle%28%0A%20%20%20%20%20%20%20%20%20%20%20%20%20%20%20%20%5B32.73355611%2C%20-117.1896567%5D%2C%0A%20%20%20%20%20%20%20%20%20%20%20%20%20%20%20%20%7B%22bubblingMouseEvents%22%3A%20true%2C%20%22color%22%3A%20%22%23d35400%22%2C%20%22dashArray%22%3A%20null%2C%20%22dashOffset%22%3A%20null%2C%20%22fill%22%3A%20true%2C%20%22fillColor%22%3A%20%22%23d35400%22%2C%20%22fillOpacity%22%3A%200.2%2C%20%22fillRule%22%3A%20%22evenodd%22%2C%20%22lineCap%22%3A%20%22round%22%2C%20%22lineJoin%22%3A%20%22round%22%2C%20%22opacity%22%3A%201.0%2C%20%22radius%22%3A%20100%2C%20%22stroke%22%3A%20true%2C%20%22weight%22%3A%203%7D%0A%20%20%20%20%20%20%20%20%20%20%20%20%29.addTo%28map_446010495b2e4dc590981511154173a2%29%3B%0A%20%20%20%20%20%20%20%20%0A%20%20%20%20%0A%20%20%20%20%20%20%20%20var%20popup_abc651d384b2464caa4feb7c0b079ef7%20%3D%20L.popup%28%7B%22maxWidth%22%3A%20%22100%25%22%7D%29%3B%0A%0A%20%20%20%20%20%20%20%20%0A%20%20%20%20%20%20%20%20%20%20%20%20var%20html_d92e1b3238db4d56a8d8b68838aca171%20%3D%20%24%28%60%3Cdiv%20id%3D%22html_d92e1b3238db4d56a8d8b68838aca171%22%20style%3D%22width%3A%20100.0%25%3B%20height%3A%20100.0%25%3B%22%3ESan%20Diego%20International-Lindbergh%20%3C/div%3E%60%29%5B0%5D%3B%0A%20%20%20%20%20%20%20%20%20%20%20%20popup_abc651d384b2464caa4feb7c0b079ef7.setContent%28html_d92e1b3238db4d56a8d8b68838aca171%29%3B%0A%20%20%20%20%20%20%20%20%0A%0A%20%20%20%20%20%20%20%20circle_5f9c17d787314facb764478fd6ae15f0.bindPopup%28popup_abc651d384b2464caa4feb7c0b079ef7%29%0A%20%20%20%20%20%20%20%20%3B%0A%0A%20%20%20%20%20%20%20%20%0A%20%20%20%20%0A%20%20%20%20%0A%20%20%20%20%20%20%20%20%20%20%20%20var%20marker_34f66da20f724411bc85123c3e82560d%20%3D%20L.marker%28%0A%20%20%20%20%20%20%20%20%20%20%20%20%20%20%20%20%5B32.73355611%2C%20-117.1896567%5D%2C%0A%20%20%20%20%20%20%20%20%20%20%20%20%20%20%20%20%7B%7D%0A%20%20%20%20%20%20%20%20%20%20%20%20%29.addTo%28map_446010495b2e4dc590981511154173a2%29%3B%0A%20%20%20%20%20%20%20%20%0A%20%20%20%20%0A%20%20%20%20%20%20%20%20%20%20%20%20var%20div_icon_8ce9dbbfc16649d888953bfbeab5109a%20%3D%20L.divIcon%28%7B%22className%22%3A%20%22empty%22%2C%20%22html%22%3A%20%22%5Cu003cdiv%20style%3D%5C%22font-size%3A%2012%3B%20color%3A%23d35400%3B%5C%22%5Cu003e%5Cu003cb%5Cu003eSan%20Diego%20International-Lindbergh%20%5Cu003c/b%5Cu003e%5Cu003c/div%5Cu003e%22%2C%20%22iconAnchor%22%3A%20%5B0%2C%200%5D%2C%20%22iconSize%22%3A%20%5B20%2C%2020%5D%7D%29%3B%0A%20%20%20%20%20%20%20%20%20%20%20%20marker_34f66da20f724411bc85123c3e82560d.setIcon%28div_icon_8ce9dbbfc16649d888953bfbeab5109a%29%3B%0A%20%20%20%20%20%20%20%20%0A%20%20%20%20%0A%20%20%20%20%20%20%20%20%20%20%20%20var%20poly_line_3713254a300340c281e266df4da7887a%20%3D%20L.polyline%28%0A%20%20%20%20%20%20%20%20%20%20%20%20%20%20%20%20%5B%5B32.73355611%2C%20-117.1896567%5D%2C%20%5B41.9796%2C%20-87.90446%5D%5D%2C%0A%20%20%20%20%20%20%20%20%20%20%20%20%20%20%20%20%7B%22bubblingMouseEvents%22%3A%20true%2C%20%22color%22%3A%20%5B%22red%22%5D%2C%20%22dashArray%22%3A%20null%2C%20%22dashOffset%22%3A%20null%2C%20%22fill%22%3A%20false%2C%20%22fillColor%22%3A%20%5B%22red%22%5D%2C%20%22fillOpacity%22%3A%200.2%2C%20%22fillRule%22%3A%20%22evenodd%22%2C%20%22lineCap%22%3A%20%22round%22%2C%20%22lineJoin%22%3A%20%22round%22%2C%20%22noClip%22%3A%20false%2C%20%22opacity%22%3A%201.0%2C%20%22smoothFactor%22%3A%201.0%2C%20%22stroke%22%3A%20true%2C%20%22weight%22%3A%203%7D%0A%20%20%20%20%20%20%20%20%20%20%20%20%29.addTo%28map_446010495b2e4dc590981511154173a2%29%3B%0A%20%20%20%20%20%20%20%20%0A%20%20%20%20%0A%20%20%20%20%20%20%20%20%20%20%20%20var%20circle_c829bdbf7c264cae87945719ee42965d%20%3D%20L.circle%28%0A%20%20%20%20%20%20%20%20%20%20%20%20%20%20%20%20%5B32.73355611%2C%20-117.1896567%5D%2C%0A%20%20%20%20%20%20%20%20%20%20%20%20%20%20%20%20%7B%22bubblingMouseEvents%22%3A%20true%2C%20%22color%22%3A%20%22%23d35400%22%2C%20%22dashArray%22%3A%20null%2C%20%22dashOffset%22%3A%20null%2C%20%22fill%22%3A%20true%2C%20%22fillColor%22%3A%20%22%23d35400%22%2C%20%22fillOpacity%22%3A%200.2%2C%20%22fillRule%22%3A%20%22evenodd%22%2C%20%22lineCap%22%3A%20%22round%22%2C%20%22lineJoin%22%3A%20%22round%22%2C%20%22opacity%22%3A%201.0%2C%20%22radius%22%3A%20100%2C%20%22stroke%22%3A%20true%2C%20%22weight%22%3A%203%7D%0A%20%20%20%20%20%20%20%20%20%20%20%20%29.addTo%28map_446010495b2e4dc590981511154173a2%29%3B%0A%20%20%20%20%20%20%20%20%0A%20%20%20%20%0A%20%20%20%20%20%20%20%20var%20popup_564fd1ce13b244fba81bfea2a91832e0%20%3D%20L.popup%28%7B%22maxWidth%22%3A%20%22100%25%22%7D%29%3B%0A%0A%20%20%20%20%20%20%20%20%0A%20%20%20%20%20%20%20%20%20%20%20%20var%20html_37a2a580c2fb43ea9368c31fc94d6a13%20%3D%20%24%28%60%3Cdiv%20id%3D%22html_37a2a580c2fb43ea9368c31fc94d6a13%22%20style%3D%22width%3A%20100.0%25%3B%20height%3A%20100.0%25%3B%22%3ESan%20Diego%20International-Lindbergh%20%3C/div%3E%60%29%5B0%5D%3B%0A%20%20%20%20%20%20%20%20%20%20%20%20popup_564fd1ce13b244fba81bfea2a91832e0.setContent%28html_37a2a580c2fb43ea9368c31fc94d6a13%29%3B%0A%20%20%20%20%20%20%20%20%0A%0A%20%20%20%20%20%20%20%20circle_c829bdbf7c264cae87945719ee42965d.bindPopup%28popup_564fd1ce13b244fba81bfea2a91832e0%29%0A%20%20%20%20%20%20%20%20%3B%0A%0A%20%20%20%20%20%20%20%20%0A%20%20%20%20%0A%20%20%20%20%0A%20%20%20%20%20%20%20%20%20%20%20%20var%20marker_83a1af00432c4dbb8cb42f997dcb5210%20%3D%20L.marker%28%0A%20%20%20%20%20%20%20%20%20%20%20%20%20%20%20%20%5B32.73355611%2C%20-117.1896567%5D%2C%0A%20%20%20%20%20%20%20%20%20%20%20%20%20%20%20%20%7B%7D%0A%20%20%20%20%20%20%20%20%20%20%20%20%29.addTo%28map_446010495b2e4dc590981511154173a2%29%3B%0A%20%20%20%20%20%20%20%20%0A%20%20%20%20%0A%20%20%20%20%20%20%20%20%20%20%20%20var%20div_icon_a9ee99abff8c4f29b17665d34ed47fa8%20%3D%20L.divIcon%28%7B%22className%22%3A%20%22empty%22%2C%20%22html%22%3A%20%22%5Cu003cdiv%20style%3D%5C%22font-size%3A%2012%3B%20color%3A%23d35400%3B%5C%22%5Cu003e%5Cu003cb%5Cu003eSan%20Diego%20International-Lindbergh%20%5Cu003c/b%5Cu003e%5Cu003c/div%5Cu003e%22%2C%20%22iconAnchor%22%3A%20%5B0%2C%200%5D%2C%20%22iconSize%22%3A%20%5B20%2C%2020%5D%7D%29%3B%0A%20%20%20%20%20%20%20%20%20%20%20%20marker_83a1af00432c4dbb8cb42f997dcb5210.setIcon%28div_icon_a9ee99abff8c4f29b17665d34ed47fa8%29%3B%0A%20%20%20%20%20%20%20%20%0A%20%20%20%20%0A%20%20%20%20%20%20%20%20%20%20%20%20var%20poly_line_cf8a09899f4c4bb9a002894e1f19c94a%20%3D%20L.polyline%28%0A%20%20%20%20%20%20%20%20%20%20%20%20%20%20%20%20%5B%5B32.73355611%2C%20-117.1896567%5D%2C%20%5B41.9796%2C%20-87.90446%5D%5D%2C%0A%20%20%20%20%20%20%20%20%20%20%20%20%20%20%20%20%7B%22bubblingMouseEvents%22%3A%20true%2C%20%22color%22%3A%20%5B%22red%22%5D%2C%20%22dashArray%22%3A%20null%2C%20%22dashOffset%22%3A%20null%2C%20%22fill%22%3A%20false%2C%20%22fillColor%22%3A%20%5B%22red%22%5D%2C%20%22fillOpacity%22%3A%200.2%2C%20%22fillRule%22%3A%20%22evenodd%22%2C%20%22lineCap%22%3A%20%22round%22%2C%20%22lineJoin%22%3A%20%22round%22%2C%20%22noClip%22%3A%20false%2C%20%22opacity%22%3A%201.0%2C%20%22smoothFactor%22%3A%201.0%2C%20%22stroke%22%3A%20true%2C%20%22weight%22%3A%203%7D%0A%20%20%20%20%20%20%20%20%20%20%20%20%29.addTo%28map_446010495b2e4dc590981511154173a2%29%3B%0A%20%20%20%20%20%20%20%20%0A%20%20%20%20%0A%20%20%20%20%20%20%20%20%20%20%20%20var%20circle_02a18facb5ef4cc8a55722b9d8c5079f%20%3D%20L.circle%28%0A%20%20%20%20%20%20%20%20%20%20%20%20%20%20%20%20%5B33.94253611%2C%20-118.4080744%5D%2C%0A%20%20%20%20%20%20%20%20%20%20%20%20%20%20%20%20%7B%22bubblingMouseEvents%22%3A%20true%2C%20%22color%22%3A%20%22%23d35400%22%2C%20%22dashArray%22%3A%20null%2C%20%22dashOffset%22%3A%20null%2C%20%22fill%22%3A%20true%2C%20%22fillColor%22%3A%20%22%23d35400%22%2C%20%22fillOpacity%22%3A%200.2%2C%20%22fillRule%22%3A%20%22evenodd%22%2C%20%22lineCap%22%3A%20%22round%22%2C%20%22lineJoin%22%3A%20%22round%22%2C%20%22opacity%22%3A%201.0%2C%20%22radius%22%3A%20100%2C%20%22stroke%22%3A%20true%2C%20%22weight%22%3A%203%7D%0A%20%20%20%20%20%20%20%20%20%20%20%20%29.addTo%28map_446010495b2e4dc590981511154173a2%29%3B%0A%20%20%20%20%20%20%20%20%0A%20%20%20%20%0A%20%20%20%20%20%20%20%20var%20popup_4515a2cf9d1e4ec0886732aedf1d5aa1%20%3D%20L.popup%28%7B%22maxWidth%22%3A%20%22100%25%22%7D%29%3B%0A%0A%20%20%20%20%20%20%20%20%0A%20%20%20%20%20%20%20%20%20%20%20%20var%20html_7656719500e74b158f946a714386ead9%20%3D%20%24%28%60%3Cdiv%20id%3D%22html_7656719500e74b158f946a714386ead9%22%20style%3D%22width%3A%20100.0%25%3B%20height%3A%20100.0%25%3B%22%3ELos%20Angeles%20International%3C/div%3E%60%29%5B0%5D%3B%0A%20%20%20%20%20%20%20%20%20%20%20%20popup_4515a2cf9d1e4ec0886732aedf1d5aa1.setContent%28html_7656719500e74b158f946a714386ead9%29%3B%0A%20%20%20%20%20%20%20%20%0A%0A%20%20%20%20%20%20%20%20circle_02a18facb5ef4cc8a55722b9d8c5079f.bindPopup%28popup_4515a2cf9d1e4ec0886732aedf1d5aa1%29%0A%20%20%20%20%20%20%20%20%3B%0A%0A%20%20%20%20%20%20%20%20%0A%20%20%20%20%0A%20%20%20%20%0A%20%20%20%20%20%20%20%20%20%20%20%20var%20marker_d803820ab2e5401c83f3dba64af35843%20%3D%20L.marker%28%0A%20%20%20%20%20%20%20%20%20%20%20%20%20%20%20%20%5B33.94253611%2C%20-118.4080744%5D%2C%0A%20%20%20%20%20%20%20%20%20%20%20%20%20%20%20%20%7B%7D%0A%20%20%20%20%20%20%20%20%20%20%20%20%29.addTo%28map_446010495b2e4dc590981511154173a2%29%3B%0A%20%20%20%20%20%20%20%20%0A%20%20%20%20%0A%20%20%20%20%20%20%20%20%20%20%20%20var%20div_icon_21b2637501f24dedacc95c8c656556a2%20%3D%20L.divIcon%28%7B%22className%22%3A%20%22empty%22%2C%20%22html%22%3A%20%22%5Cu003cdiv%20style%3D%5C%22font-size%3A%2012%3B%20color%3A%23d35400%3B%5C%22%5Cu003e%5Cu003cb%5Cu003eLos%20Angeles%20International%5Cu003c/b%5Cu003e%5Cu003c/div%5Cu003e%22%2C%20%22iconAnchor%22%3A%20%5B0%2C%200%5D%2C%20%22iconSize%22%3A%20%5B20%2C%2020%5D%7D%29%3B%0A%20%20%20%20%20%20%20%20%20%20%20%20marker_d803820ab2e5401c83f3dba64af35843.setIcon%28div_icon_21b2637501f24dedacc95c8c656556a2%29%3B%0A%20%20%20%20%20%20%20%20%0A%20%20%20%20%0A%20%20%20%20%20%20%20%20%20%20%20%20var%20poly_line_0aca79aec8c149e59d2211f6c4d80f6f%20%3D%20L.polyline%28%0A%20%20%20%20%20%20%20%20%20%20%20%20%20%20%20%20%5B%5B33.94253611%2C%20-118.4080744%5D%2C%20%5B41.9796%2C%20-87.90446%5D%5D%2C%0A%20%20%20%20%20%20%20%20%20%20%20%20%20%20%20%20%7B%22bubblingMouseEvents%22%3A%20true%2C%20%22color%22%3A%20%5B%22red%22%5D%2C%20%22dashArray%22%3A%20null%2C%20%22dashOffset%22%3A%20null%2C%20%22fill%22%3A%20false%2C%20%22fillColor%22%3A%20%5B%22red%22%5D%2C%20%22fillOpacity%22%3A%200.2%2C%20%22fillRule%22%3A%20%22evenodd%22%2C%20%22lineCap%22%3A%20%22round%22%2C%20%22lineJoin%22%3A%20%22round%22%2C%20%22noClip%22%3A%20false%2C%20%22opacity%22%3A%201.0%2C%20%22smoothFactor%22%3A%201.0%2C%20%22stroke%22%3A%20true%2C%20%22weight%22%3A%203%7D%0A%20%20%20%20%20%20%20%20%20%20%20%20%29.addTo%28map_446010495b2e4dc590981511154173a2%29%3B%0A%20%20%20%20%20%20%20%20%0A%20%20%20%20%0A%20%20%20%20%20%20%20%20%20%20%20%20var%20circle_af9eb945f33b48129c92f6706619b415%20%3D%20L.circle%28%0A%20%20%20%20%20%20%20%20%20%20%20%20%20%20%20%20%5B33.94253611%2C%20-118.4080744%5D%2C%0A%20%20%20%20%20%20%20%20%20%20%20%20%20%20%20%20%7B%22bubblingMouseEvents%22%3A%20true%2C%20%22color%22%3A%20%22%23d35400%22%2C%20%22dashArray%22%3A%20null%2C%20%22dashOffset%22%3A%20null%2C%20%22fill%22%3A%20true%2C%20%22fillColor%22%3A%20%22%23d35400%22%2C%20%22fillOpacity%22%3A%200.2%2C%20%22fillRule%22%3A%20%22evenodd%22%2C%20%22lineCap%22%3A%20%22round%22%2C%20%22lineJoin%22%3A%20%22round%22%2C%20%22opacity%22%3A%201.0%2C%20%22radius%22%3A%20100%2C%20%22stroke%22%3A%20true%2C%20%22weight%22%3A%203%7D%0A%20%20%20%20%20%20%20%20%20%20%20%20%29.addTo%28map_446010495b2e4dc590981511154173a2%29%3B%0A%20%20%20%20%20%20%20%20%0A%20%20%20%20%0A%20%20%20%20%20%20%20%20var%20popup_50cf0603a10e49c4867109e15632dc1a%20%3D%20L.popup%28%7B%22maxWidth%22%3A%20%22100%25%22%7D%29%3B%0A%0A%20%20%20%20%20%20%20%20%0A%20%20%20%20%20%20%20%20%20%20%20%20var%20html_3c1909a9690449e1a9c10fcf5576247d%20%3D%20%24%28%60%3Cdiv%20id%3D%22html_3c1909a9690449e1a9c10fcf5576247d%22%20style%3D%22width%3A%20100.0%25%3B%20height%3A%20100.0%25%3B%22%3ELos%20Angeles%20International%3C/div%3E%60%29%5B0%5D%3B%0A%20%20%20%20%20%20%20%20%20%20%20%20popup_50cf0603a10e49c4867109e15632dc1a.setContent%28html_3c1909a9690449e1a9c10fcf5576247d%29%3B%0A%20%20%20%20%20%20%20%20%0A%0A%20%20%20%20%20%20%20%20circle_af9eb945f33b48129c92f6706619b415.bindPopup%28popup_50cf0603a10e49c4867109e15632dc1a%29%0A%20%20%20%20%20%20%20%20%3B%0A%0A%20%20%20%20%20%20%20%20%0A%20%20%20%20%0A%20%20%20%20%0A%20%20%20%20%20%20%20%20%20%20%20%20var%20marker_1f9c1492228c4df2be49a7d85aea6ee1%20%3D%20L.marker%28%0A%20%20%20%20%20%20%20%20%20%20%20%20%20%20%20%20%5B33.94253611%2C%20-118.4080744%5D%2C%0A%20%20%20%20%20%20%20%20%20%20%20%20%20%20%20%20%7B%7D%0A%20%20%20%20%20%20%20%20%20%20%20%20%29.addTo%28map_446010495b2e4dc590981511154173a2%29%3B%0A%20%20%20%20%20%20%20%20%0A%20%20%20%20%0A%20%20%20%20%20%20%20%20%20%20%20%20var%20div_icon_7ba2bb5e218049d5be97e1bb486f2279%20%3D%20L.divIcon%28%7B%22className%22%3A%20%22empty%22%2C%20%22html%22%3A%20%22%5Cu003cdiv%20style%3D%5C%22font-size%3A%2012%3B%20color%3A%23d35400%3B%5C%22%5Cu003e%5Cu003cb%5Cu003eLos%20Angeles%20International%5Cu003c/b%5Cu003e%5Cu003c/div%5Cu003e%22%2C%20%22iconAnchor%22%3A%20%5B0%2C%200%5D%2C%20%22iconSize%22%3A%20%5B20%2C%2020%5D%7D%29%3B%0A%20%20%20%20%20%20%20%20%20%20%20%20marker_1f9c1492228c4df2be49a7d85aea6ee1.setIcon%28div_icon_7ba2bb5e218049d5be97e1bb486f2279%29%3B%0A%20%20%20%20%20%20%20%20%0A%20%20%20%20%0A%20%20%20%20%20%20%20%20%20%20%20%20var%20poly_line_3f08d55355f34f9181d80173a47f39b6%20%3D%20L.polyline%28%0A%20%20%20%20%20%20%20%20%20%20%20%20%20%20%20%20%5B%5B33.94253611%2C%20-118.4080744%5D%2C%20%5B41.9796%2C%20-87.90446%5D%5D%2C%0A%20%20%20%20%20%20%20%20%20%20%20%20%20%20%20%20%7B%22bubblingMouseEvents%22%3A%20true%2C%20%22color%22%3A%20%5B%22red%22%5D%2C%20%22dashArray%22%3A%20null%2C%20%22dashOffset%22%3A%20null%2C%20%22fill%22%3A%20false%2C%20%22fillColor%22%3A%20%5B%22red%22%5D%2C%20%22fillOpacity%22%3A%200.2%2C%20%22fillRule%22%3A%20%22evenodd%22%2C%20%22lineCap%22%3A%20%22round%22%2C%20%22lineJoin%22%3A%20%22round%22%2C%20%22noClip%22%3A%20false%2C%20%22opacity%22%3A%201.0%2C%20%22smoothFactor%22%3A%201.0%2C%20%22stroke%22%3A%20true%2C%20%22weight%22%3A%203%7D%0A%20%20%20%20%20%20%20%20%20%20%20%20%29.addTo%28map_446010495b2e4dc590981511154173a2%29%3B%0A%20%20%20%20%20%20%20%20%0A%20%20%20%20%0A%20%20%20%20%20%20%20%20%20%20%20%20var%20circle_b428146645fc4196b5c46e97be8fa1d0%20%3D%20L.circle%28%0A%20%20%20%20%20%20%20%20%20%20%20%20%20%20%20%20%5B33.94253611%2C%20-118.4080744%5D%2C%0A%20%20%20%20%20%20%20%20%20%20%20%20%20%20%20%20%7B%22bubblingMouseEvents%22%3A%20true%2C%20%22color%22%3A%20%22%23d35400%22%2C%20%22dashArray%22%3A%20null%2C%20%22dashOffset%22%3A%20null%2C%20%22fill%22%3A%20true%2C%20%22fillColor%22%3A%20%22%23d35400%22%2C%20%22fillOpacity%22%3A%200.2%2C%20%22fillRule%22%3A%20%22evenodd%22%2C%20%22lineCap%22%3A%20%22round%22%2C%20%22lineJoin%22%3A%20%22round%22%2C%20%22opacity%22%3A%201.0%2C%20%22radius%22%3A%20100%2C%20%22stroke%22%3A%20true%2C%20%22weight%22%3A%203%7D%0A%20%20%20%20%20%20%20%20%20%20%20%20%29.addTo%28map_446010495b2e4dc590981511154173a2%29%3B%0A%20%20%20%20%20%20%20%20%0A%20%20%20%20%0A%20%20%20%20%20%20%20%20var%20popup_62d423279d8747c19e103d8299e3767d%20%3D%20L.popup%28%7B%22maxWidth%22%3A%20%22100%25%22%7D%29%3B%0A%0A%20%20%20%20%20%20%20%20%0A%20%20%20%20%20%20%20%20%20%20%20%20var%20html_ac7abdf3307f478c931e410c5bf8be35%20%3D%20%24%28%60%3Cdiv%20id%3D%22html_ac7abdf3307f478c931e410c5bf8be35%22%20style%3D%22width%3A%20100.0%25%3B%20height%3A%20100.0%25%3B%22%3ELos%20Angeles%20International%3C/div%3E%60%29%5B0%5D%3B%0A%20%20%20%20%20%20%20%20%20%20%20%20popup_62d423279d8747c19e103d8299e3767d.setContent%28html_ac7abdf3307f478c931e410c5bf8be35%29%3B%0A%20%20%20%20%20%20%20%20%0A%0A%20%20%20%20%20%20%20%20circle_b428146645fc4196b5c46e97be8fa1d0.bindPopup%28popup_62d423279d8747c19e103d8299e3767d%29%0A%20%20%20%20%20%20%20%20%3B%0A%0A%20%20%20%20%20%20%20%20%0A%20%20%20%20%0A%20%20%20%20%0A%20%20%20%20%20%20%20%20%20%20%20%20var%20marker_0b5267a622aa435e9e7a4d39ac3ba555%20%3D%20L.marker%28%0A%20%20%20%20%20%20%20%20%20%20%20%20%20%20%20%20%5B33.94253611%2C%20-118.4080744%5D%2C%0A%20%20%20%20%20%20%20%20%20%20%20%20%20%20%20%20%7B%7D%0A%20%20%20%20%20%20%20%20%20%20%20%20%29.addTo%28map_446010495b2e4dc590981511154173a2%29%3B%0A%20%20%20%20%20%20%20%20%0A%20%20%20%20%0A%20%20%20%20%20%20%20%20%20%20%20%20var%20div_icon_be6cccf079654b4b9c1c4d6b92f1c509%20%3D%20L.divIcon%28%7B%22className%22%3A%20%22empty%22%2C%20%22html%22%3A%20%22%5Cu003cdiv%20style%3D%5C%22font-size%3A%2012%3B%20color%3A%23d35400%3B%5C%22%5Cu003e%5Cu003cb%5Cu003eLos%20Angeles%20International%5Cu003c/b%5Cu003e%5Cu003c/div%5Cu003e%22%2C%20%22iconAnchor%22%3A%20%5B0%2C%200%5D%2C%20%22iconSize%22%3A%20%5B20%2C%2020%5D%7D%29%3B%0A%20%20%20%20%20%20%20%20%20%20%20%20marker_0b5267a622aa435e9e7a4d39ac3ba555.setIcon%28div_icon_be6cccf079654b4b9c1c4d6b92f1c509%29%3B%0A%20%20%20%20%20%20%20%20%0A%20%20%20%20%0A%20%20%20%20%20%20%20%20%20%20%20%20var%20poly_line_960cf457d7ca46269a5e2ad954deaa3f%20%3D%20L.polyline%28%0A%20%20%20%20%20%20%20%20%20%20%20%20%20%20%20%20%5B%5B33.94253611%2C%20-118.4080744%5D%2C%20%5B41.9796%2C%20-87.90446%5D%5D%2C%0A%20%20%20%20%20%20%20%20%20%20%20%20%20%20%20%20%7B%22bubblingMouseEvents%22%3A%20true%2C%20%22color%22%3A%20%5B%22red%22%5D%2C%20%22dashArray%22%3A%20null%2C%20%22dashOffset%22%3A%20null%2C%20%22fill%22%3A%20false%2C%20%22fillColor%22%3A%20%5B%22red%22%5D%2C%20%22fillOpacity%22%3A%200.2%2C%20%22fillRule%22%3A%20%22evenodd%22%2C%20%22lineCap%22%3A%20%22round%22%2C%20%22lineJoin%22%3A%20%22round%22%2C%20%22noClip%22%3A%20false%2C%20%22opacity%22%3A%201.0%2C%20%22smoothFactor%22%3A%201.0%2C%20%22stroke%22%3A%20true%2C%20%22weight%22%3A%203%7D%0A%20%20%20%20%20%20%20%20%20%20%20%20%29.addTo%28map_446010495b2e4dc590981511154173a2%29%3B%0A%20%20%20%20%20%20%20%20%0A%3C/script%3E onload=\"this.contentDocument.open();this.contentDocument.write(    decodeURIComponent(this.getAttribute('data-html')));this.contentDocument.close();\" allowfullscreen webkitallowfullscreen mozallowfullscreen></iframe></div></div>"
      ],
      "text/plain": [
       "<folium.folium.Map at 0x7fa18ae13820>"
      ]
     },
     "execution_count": 105,
     "metadata": {},
     "output_type": "execute_result"
    }
   ],
   "source": [
    "Chicago_Coord=[41.9796,-87.90446]\n",
    "site_map = folium.Map(location=Chicago_Coord, zoom_start=10)\n",
    "circle = folium.Circle(Chicago_Coord, radius=1000, color='#d35400', fill=True).add_child(folium.Popup(\"Chicago O'Hare International\"))\n",
    "marker = folium.map.Marker(\n",
    "    Chicago_Coord,\n",
    "    icon=DivIcon(\n",
    "        icon_size=(20,20),\n",
    "        icon_anchor=(0,0),\n",
    "        html='<div style=\"font-size: 12; color:#d35400;\"><b>%s</b></div>' % \"Chicago O'Hare International\",\n",
    "        )\n",
    "    )\n",
    "site_map.add_child(circle)\n",
    "site_map.add_child(marker)\n",
    "for i in range (len(airports_total.index)):\n",
    "    coordinate = [airports_total[\"lat\"][i], airports_total[\"long\"][i]]\n",
    "    circle = folium.Circle(coordinate, radius=100, color='#d35400', fill=True).add_child(folium.Popup(airports_total[\"airport\"][i]))\n",
    "    marker = folium.map.Marker(\n",
    "        coordinate,\n",
    "        icon=DivIcon(\n",
    "            icon_size=(20,20),\n",
    "            icon_anchor=(0,0),\n",
    "            html='<div style=\"font-size: 12; color:#d35400;\"><b>%s</b></div>' % airports_total[\"airport\"][i],\n",
    "            )\n",
    "        )\n",
    "    line = folium.PolyLine([coordinate, Chicago_Coord], color=[airports_total['Colour'][i]])\n",
    "    site_map.add_child(circle)\n",
    "    site_map.add_child(marker)\n",
    "    site_map.add_child(line)\n",
    "site_map"
   ]
  },
  {
   "cell_type": "markdown",
   "metadata": {},
   "source": [
    "Question 4 –Can you detect cascading failures as delays in one airport create delays in others?"
   ]
  },
  {
   "cell_type": "code",
   "execution_count": 47,
   "metadata": {},
   "outputs": [],
   "source": [
    "cascading_airport= total_data[['TailNum', 'Year','Month', 'DayofMonth', 'DepTime', 'CRSDepTime','ActualElapsedTime','CRSElapsedTime', 'ArrTime', 'CRSArrTime', 'ArrDelay', 'DepDelay', 'Origin', 'Dest']]\n",
    "cascading_airport= cascading_airport.rename(columns= {'DayofMonth':'Day'})\n",
    "cascading_airport['Date']= pd.to_datetime(cascading_airport[['Year', 'Month', 'Day']])\n",
    "cascading_airport= cascading_airport[(cascading_airport['Origin']=='ORD') | (cascading_airport['Dest']=='ORD')]\n"
   ]
  },
  {
   "cell_type": "markdown",
   "metadata": {},
   "source": [
    "Geeting the flights that does not encounter cascading failures"
   ]
  },
  {
   "cell_type": "code",
   "execution_count": 48,
   "metadata": {},
   "outputs": [],
   "source": [
    "cascading_not_airport= cascading_airport[((cascading_airport['Dest']=='ORD') & (cascading_airport['DepDelay']>0) & (cascading_airport['ArrDelay']>0)) | ((cascading_airport['Origin']=='ORD') & (cascading_airport['DepDelay']<=0) & (cascading_airport['ArrDelay']<=0))]\n",
    "cascading_not_airport= cascading_not_airport.groupby(['TailNum','Date']).filter(lambda x: len(x) > 1)\n",
    "cascading_not_airport['Cascading']= 0\n",
    "cascading_not_airport"
   ]
  },
  {
   "cell_type": "markdown",
   "metadata": {},
   "source": [
    "Geeting the flights that does encounter cascading failures"
   ]
  },
  {
   "cell_type": "code",
   "execution_count": 54,
   "metadata": {},
   "outputs": [],
   "source": [
    "cascading_airport= cascading_airport[((cascading_airport['Dest']=='ORD') & (cascading_airport['DepDelay']>0) & (cascading_airport['ArrDelay']>0)) | ((cascading_airport['Origin']=='ORD') & (cascading_airport['DepDelay']>0) & (cascading_airport['ArrDelay']>0))]\n",
    "cascading_airport= cascading_airport.groupby(['TailNum','Date']).filter(lambda x: len(x) > 1)\n",
    "cascading_airport['Cascading']= 1"
   ]
  },
  {
   "cell_type": "markdown",
   "metadata": {},
   "source": [
    "Merging the dataset arangging the data based on tail number, date, depature time and whether it encounter cascading failures "
   ]
  },
  {
   "cell_type": "code",
   "execution_count": 57,
   "metadata": {},
   "outputs": [
    {
     "data": {
      "text/html": [
       "<div>\n",
       "<style scoped>\n",
       "    .dataframe tbody tr th:only-of-type {\n",
       "        vertical-align: middle;\n",
       "    }\n",
       "\n",
       "    .dataframe tbody tr th {\n",
       "        vertical-align: top;\n",
       "    }\n",
       "\n",
       "    .dataframe thead th {\n",
       "        text-align: right;\n",
       "    }\n",
       "</style>\n",
       "<table border=\"1\" class=\"dataframe\">\n",
       "  <thead>\n",
       "    <tr style=\"text-align: right;\">\n",
       "      <th></th>\n",
       "      <th>TailNum</th>\n",
       "      <th>Year</th>\n",
       "      <th>Month</th>\n",
       "      <th>Day</th>\n",
       "      <th>DepTime</th>\n",
       "      <th>CRSDepTime</th>\n",
       "      <th>ActualElapsedTime</th>\n",
       "      <th>CRSElapsedTime</th>\n",
       "      <th>ArrTime</th>\n",
       "      <th>CRSArrTime</th>\n",
       "      <th>ArrDelay</th>\n",
       "      <th>DepDelay</th>\n",
       "      <th>Origin</th>\n",
       "      <th>Dest</th>\n",
       "      <th>Date</th>\n",
       "      <th>Cascading</th>\n",
       "    </tr>\n",
       "  </thead>\n",
       "  <tbody>\n",
       "    <tr>\n",
       "      <th>1331107</th>\n",
       "      <td>N10156</td>\n",
       "      <td>2006</td>\n",
       "      <td>3</td>\n",
       "      <td>28</td>\n",
       "      <td>1256.0</td>\n",
       "      <td>1147</td>\n",
       "      <td>180.0</td>\n",
       "      <td>152.0</td>\n",
       "      <td>1556.0</td>\n",
       "      <td>1419</td>\n",
       "      <td>97.0</td>\n",
       "      <td>69.0</td>\n",
       "      <td>IAH</td>\n",
       "      <td>ORD</td>\n",
       "      <td>2006-03-28</td>\n",
       "      <td>1</td>\n",
       "    </tr>\n",
       "    <tr>\n",
       "      <th>1346247</th>\n",
       "      <td>N10156</td>\n",
       "      <td>2006</td>\n",
       "      <td>3</td>\n",
       "      <td>28</td>\n",
       "      <td>1615.0</td>\n",
       "      <td>1515</td>\n",
       "      <td>155.0</td>\n",
       "      <td>173.0</td>\n",
       "      <td>1850.0</td>\n",
       "      <td>1808</td>\n",
       "      <td>42.0</td>\n",
       "      <td>60.0</td>\n",
       "      <td>ORD</td>\n",
       "      <td>IAH</td>\n",
       "      <td>2006-03-28</td>\n",
       "      <td>1</td>\n",
       "    </tr>\n",
       "    <tr>\n",
       "      <th>1944343</th>\n",
       "      <td>N10156</td>\n",
       "      <td>2006</td>\n",
       "      <td>4</td>\n",
       "      <td>3</td>\n",
       "      <td>1304.0</td>\n",
       "      <td>1148</td>\n",
       "      <td>206.0</td>\n",
       "      <td>162.0</td>\n",
       "      <td>1630.0</td>\n",
       "      <td>1430</td>\n",
       "      <td>120.0</td>\n",
       "      <td>76.0</td>\n",
       "      <td>IAH</td>\n",
       "      <td>ORD</td>\n",
       "      <td>2006-04-03</td>\n",
       "      <td>1</td>\n",
       "    </tr>\n",
       "    <tr>\n",
       "      <th>1955086</th>\n",
       "      <td>N10156</td>\n",
       "      <td>2006</td>\n",
       "      <td>4</td>\n",
       "      <td>3</td>\n",
       "      <td>1708.0</td>\n",
       "      <td>1510</td>\n",
       "      <td>148.0</td>\n",
       "      <td>170.0</td>\n",
       "      <td>1936.0</td>\n",
       "      <td>1800</td>\n",
       "      <td>96.0</td>\n",
       "      <td>118.0</td>\n",
       "      <td>ORD</td>\n",
       "      <td>IAH</td>\n",
       "      <td>2006-04-03</td>\n",
       "      <td>1</td>\n",
       "    </tr>\n",
       "    <tr>\n",
       "      <th>3121023</th>\n",
       "      <td>N10156</td>\n",
       "      <td>2006</td>\n",
       "      <td>6</td>\n",
       "      <td>18</td>\n",
       "      <td>1053.0</td>\n",
       "      <td>910</td>\n",
       "      <td>138.0</td>\n",
       "      <td>154.0</td>\n",
       "      <td>1311.0</td>\n",
       "      <td>1144</td>\n",
       "      <td>87.0</td>\n",
       "      <td>103.0</td>\n",
       "      <td>IAH</td>\n",
       "      <td>ORD</td>\n",
       "      <td>2006-06-18</td>\n",
       "      <td>1</td>\n",
       "    </tr>\n",
       "    <tr>\n",
       "      <th>...</th>\n",
       "      <td>...</td>\n",
       "      <td>...</td>\n",
       "      <td>...</td>\n",
       "      <td>...</td>\n",
       "      <td>...</td>\n",
       "      <td>...</td>\n",
       "      <td>...</td>\n",
       "      <td>...</td>\n",
       "      <td>...</td>\n",
       "      <td>...</td>\n",
       "      <td>...</td>\n",
       "      <td>...</td>\n",
       "      <td>...</td>\n",
       "      <td>...</td>\n",
       "      <td>...</td>\n",
       "      <td>...</td>\n",
       "    </tr>\n",
       "    <tr>\n",
       "      <th>1944598</th>\n",
       "      <td>n409ca</td>\n",
       "      <td>2005</td>\n",
       "      <td>4</td>\n",
       "      <td>14</td>\n",
       "      <td>1320.0</td>\n",
       "      <td>1310</td>\n",
       "      <td>88.0</td>\n",
       "      <td>77.0</td>\n",
       "      <td>1548.0</td>\n",
       "      <td>1527</td>\n",
       "      <td>21.0</td>\n",
       "      <td>10.0</td>\n",
       "      <td>ORD</td>\n",
       "      <td>CVG</td>\n",
       "      <td>2005-04-14</td>\n",
       "      <td>1</td>\n",
       "    </tr>\n",
       "    <tr>\n",
       "      <th>773426</th>\n",
       "      <td>n816ca</td>\n",
       "      <td>2005</td>\n",
       "      <td>2</td>\n",
       "      <td>28</td>\n",
       "      <td>1808.0</td>\n",
       "      <td>1745</td>\n",
       "      <td>83.0</td>\n",
       "      <td>86.0</td>\n",
       "      <td>1831.0</td>\n",
       "      <td>1811</td>\n",
       "      <td>20.0</td>\n",
       "      <td>23.0</td>\n",
       "      <td>CVG</td>\n",
       "      <td>ORD</td>\n",
       "      <td>2005-02-28</td>\n",
       "      <td>1</td>\n",
       "    </tr>\n",
       "    <tr>\n",
       "      <th>757933</th>\n",
       "      <td>n816ca</td>\n",
       "      <td>2005</td>\n",
       "      <td>2</td>\n",
       "      <td>28</td>\n",
       "      <td>1900.0</td>\n",
       "      <td>1840</td>\n",
       "      <td>77.0</td>\n",
       "      <td>78.0</td>\n",
       "      <td>2117.0</td>\n",
       "      <td>2058</td>\n",
       "      <td>19.0</td>\n",
       "      <td>20.0</td>\n",
       "      <td>ORD</td>\n",
       "      <td>CVG</td>\n",
       "      <td>2005-02-28</td>\n",
       "      <td>1</td>\n",
       "    </tr>\n",
       "    <tr>\n",
       "      <th>1932842</th>\n",
       "      <td>n816ca</td>\n",
       "      <td>2005</td>\n",
       "      <td>4</td>\n",
       "      <td>3</td>\n",
       "      <td>1312.0</td>\n",
       "      <td>1240</td>\n",
       "      <td>63.0</td>\n",
       "      <td>70.0</td>\n",
       "      <td>1315.0</td>\n",
       "      <td>1250</td>\n",
       "      <td>25.0</td>\n",
       "      <td>32.0</td>\n",
       "      <td>CVG</td>\n",
       "      <td>ORD</td>\n",
       "      <td>2005-04-03</td>\n",
       "      <td>1</td>\n",
       "    </tr>\n",
       "    <tr>\n",
       "      <th>1932883</th>\n",
       "      <td>n816ca</td>\n",
       "      <td>2005</td>\n",
       "      <td>4</td>\n",
       "      <td>3</td>\n",
       "      <td>1345.0</td>\n",
       "      <td>1310</td>\n",
       "      <td>69.0</td>\n",
       "      <td>77.0</td>\n",
       "      <td>1554.0</td>\n",
       "      <td>1527</td>\n",
       "      <td>27.0</td>\n",
       "      <td>35.0</td>\n",
       "      <td>ORD</td>\n",
       "      <td>CVG</td>\n",
       "      <td>2005-04-03</td>\n",
       "      <td>1</td>\n",
       "    </tr>\n",
       "  </tbody>\n",
       "</table>\n",
       "<p>1208215 rows × 16 columns</p>\n",
       "</div>"
      ],
      "text/plain": [
       "        TailNum  Year  Month  Day  DepTime  CRSDepTime  ActualElapsedTime  \\\n",
       "1331107  N10156  2006      3   28   1256.0        1147              180.0   \n",
       "1346247  N10156  2006      3   28   1615.0        1515              155.0   \n",
       "1944343  N10156  2006      4    3   1304.0        1148              206.0   \n",
       "1955086  N10156  2006      4    3   1708.0        1510              148.0   \n",
       "3121023  N10156  2006      6   18   1053.0         910              138.0   \n",
       "...         ...   ...    ...  ...      ...         ...                ...   \n",
       "1944598  n409ca  2005      4   14   1320.0        1310               88.0   \n",
       "773426   n816ca  2005      2   28   1808.0        1745               83.0   \n",
       "757933   n816ca  2005      2   28   1900.0        1840               77.0   \n",
       "1932842  n816ca  2005      4    3   1312.0        1240               63.0   \n",
       "1932883  n816ca  2005      4    3   1345.0        1310               69.0   \n",
       "\n",
       "         CRSElapsedTime  ArrTime  CRSArrTime  ArrDelay  DepDelay Origin Dest  \\\n",
       "1331107           152.0   1556.0        1419      97.0      69.0    IAH  ORD   \n",
       "1346247           173.0   1850.0        1808      42.0      60.0    ORD  IAH   \n",
       "1944343           162.0   1630.0        1430     120.0      76.0    IAH  ORD   \n",
       "1955086           170.0   1936.0        1800      96.0     118.0    ORD  IAH   \n",
       "3121023           154.0   1311.0        1144      87.0     103.0    IAH  ORD   \n",
       "...                 ...      ...         ...       ...       ...    ...  ...   \n",
       "1944598            77.0   1548.0        1527      21.0      10.0    ORD  CVG   \n",
       "773426             86.0   1831.0        1811      20.0      23.0    CVG  ORD   \n",
       "757933             78.0   2117.0        2058      19.0      20.0    ORD  CVG   \n",
       "1932842            70.0   1315.0        1250      25.0      32.0    CVG  ORD   \n",
       "1932883            77.0   1554.0        1527      27.0      35.0    ORD  CVG   \n",
       "\n",
       "              Date  Cascading  \n",
       "1331107 2006-03-28          1  \n",
       "1346247 2006-03-28          1  \n",
       "1944343 2006-04-03          1  \n",
       "1955086 2006-04-03          1  \n",
       "3121023 2006-06-18          1  \n",
       "...            ...        ...  \n",
       "1944598 2005-04-14          1  \n",
       "773426  2005-02-28          1  \n",
       "757933  2005-02-28          1  \n",
       "1932842 2005-04-03          1  \n",
       "1932883 2005-04-03          1  \n",
       "\n",
       "[1208215 rows x 16 columns]"
      ]
     },
     "execution_count": 57,
     "metadata": {},
     "output_type": "execute_result"
    }
   ],
   "source": [
    "cascading_airport= pd.concat([cascading_airport, cascading_not_airport])\n",
    "cascading_airport= cascading_airport.sort_values(['TailNum', 'Date', 'DepTime', 'Cascading'])\n",
    "cascading_airport"
   ]
  },
  {
   "cell_type": "markdown",
   "metadata": {},
   "source": [
    "Plot a pie chart to represent cascading failure"
   ]
  },
  {
   "cell_type": "code",
   "execution_count": 58,
   "metadata": {},
   "outputs": [
    {
     "data": {
      "text/plain": [
       "Text(0.5, 1.0, 'Does delay in one airport affect the other?')"
      ]
     },
     "execution_count": 58,
     "metadata": {},
     "output_type": "execute_result"
    },
    {
     "data": {
      "image/png": "[encoded data removed]",
      "text/plain": [
       "<Figure size 432x288 with 1 Axes>"
      ]
     },
     "metadata": {},
     "output_type": "display_data"
    }
   ],
   "source": [
    "cascading_airport_number= cascading_airport['Cascading'].value_counts()\n",
    "ax= cascading_airport_number.plot(kind='pie',autopct='%1.1f%%',labels=[\"It affect\", \"Doesn't affect\"])\n",
    "ax.set_title('Does delay in one airport affect the other?')"
   ]
  },
  {
   "cell_type": "markdown",
   "metadata": {},
   "source": [
    "Question 5 – Use the available variables to construct a model that predict delays."
   ]
  },
  {
   "cell_type": "markdown",
   "metadata": {},
   "source": [
    "Merging the data together to get the age of the plane"
   ]
  },
  {
   "cell_type": "code",
   "execution_count": 8,
   "metadata": {},
   "outputs": [],
   "source": [
    "combine_data= pd.merge(total_data, planes_data, on=['TailNum'])"
   ]
  },
  {
   "cell_type": "markdown",
   "metadata": {},
   "source": [
    "removing the NA's and making the Departure delay into binary number. 1= yes, 0= no"
   ]
  },
  {
   "cell_type": "code",
   "execution_count": 12,
   "metadata": {},
   "outputs": [],
   "source": [
    "combine_data = combine_data.replace('NaN', np.nan)\n",
    "combine_data= combine_data.replace(r'\\s+|^$', np.nan, regex=True)\n",
    "combine_data['Delays'] =np.where(combine_data['DepDelay']>0,1,0)"
   ]
  },
  {
   "cell_type": "markdown",
   "metadata": {},
   "source": [
    "Sampling 10% of the dataset "
   ]
  },
  {
   "cell_type": "code",
   "execution_count": 26,
   "metadata": {},
   "outputs": [],
   "source": [
    "combine_data=combine_data.sample(int(len(combine_data) * 0.1))"
   ]
  },
  {
   "cell_type": "markdown",
   "metadata": {},
   "source": [
    "\n",
    "response stored in \"y\""
   ]
  },
  {
   "cell_type": "code",
   "execution_count": 27,
   "metadata": {},
   "outputs": [
    {
     "data": {
      "text/html": [
       "<div>\n",
       "<style scoped>\n",
       "    .dataframe tbody tr th:only-of-type {\n",
       "        vertical-align: middle;\n",
       "    }\n",
       "\n",
       "    .dataframe tbody tr th {\n",
       "        vertical-align: top;\n",
       "    }\n",
       "\n",
       "    .dataframe thead th {\n",
       "        text-align: right;\n",
       "    }\n",
       "</style>\n",
       "<table border=\"1\" class=\"dataframe\">\n",
       "  <thead>\n",
       "    <tr style=\"text-align: right;\">\n",
       "      <th></th>\n",
       "      <th>Age</th>\n",
       "      <th>Month</th>\n",
       "      <th>DayOfWeek</th>\n",
       "      <th>Origin</th>\n",
       "      <th>Dest</th>\n",
       "      <th>Time</th>\n",
       "      <th>Delays</th>\n",
       "    </tr>\n",
       "  </thead>\n",
       "  <tbody>\n",
       "    <tr>\n",
       "      <th>4088545</th>\n",
       "      <td>2000</td>\n",
       "      <td>7</td>\n",
       "      <td>5</td>\n",
       "      <td>LGA</td>\n",
       "      <td>MYR</td>\n",
       "      <td>09</td>\n",
       "      <td>1</td>\n",
       "    </tr>\n",
       "    <tr>\n",
       "      <th>14627742</th>\n",
       "      <td>2001</td>\n",
       "      <td>7</td>\n",
       "      <td>2</td>\n",
       "      <td>SAT</td>\n",
       "      <td>IAH</td>\n",
       "      <td>19</td>\n",
       "      <td>1</td>\n",
       "    </tr>\n",
       "    <tr>\n",
       "      <th>15970102</th>\n",
       "      <td>2005</td>\n",
       "      <td>6</td>\n",
       "      <td>4</td>\n",
       "      <td>LIT</td>\n",
       "      <td>DFW</td>\n",
       "      <td>16</td>\n",
       "      <td>1</td>\n",
       "    </tr>\n",
       "    <tr>\n",
       "      <th>10395457</th>\n",
       "      <td>1988</td>\n",
       "      <td>1</td>\n",
       "      <td>6</td>\n",
       "      <td>PHX</td>\n",
       "      <td>RNO</td>\n",
       "      <td>20</td>\n",
       "      <td>0</td>\n",
       "    </tr>\n",
       "    <tr>\n",
       "      <th>4136706</th>\n",
       "      <td>2003</td>\n",
       "      <td>9</td>\n",
       "      <td>7</td>\n",
       "      <td>CVG</td>\n",
       "      <td>GSP</td>\n",
       "      <td>21</td>\n",
       "      <td>1</td>\n",
       "    </tr>\n",
       "    <tr>\n",
       "      <th>...</th>\n",
       "      <td>...</td>\n",
       "      <td>...</td>\n",
       "      <td>...</td>\n",
       "      <td>...</td>\n",
       "      <td>...</td>\n",
       "      <td>...</td>\n",
       "      <td>...</td>\n",
       "    </tr>\n",
       "    <tr>\n",
       "      <th>16287542</th>\n",
       "      <td>2005</td>\n",
       "      <td>6</td>\n",
       "      <td>6</td>\n",
       "      <td>FLL</td>\n",
       "      <td>BOS</td>\n",
       "      <td>11</td>\n",
       "      <td>1</td>\n",
       "    </tr>\n",
       "    <tr>\n",
       "      <th>5422928</th>\n",
       "      <td>1996</td>\n",
       "      <td>4</td>\n",
       "      <td>7</td>\n",
       "      <td>CIC</td>\n",
       "      <td>SFO</td>\n",
       "      <td>14</td>\n",
       "      <td>1</td>\n",
       "    </tr>\n",
       "    <tr>\n",
       "      <th>11390932</th>\n",
       "      <td>2001</td>\n",
       "      <td>5</td>\n",
       "      <td>7</td>\n",
       "      <td>ORD</td>\n",
       "      <td>HSV</td>\n",
       "      <td>07</td>\n",
       "      <td>0</td>\n",
       "    </tr>\n",
       "    <tr>\n",
       "      <th>3128827</th>\n",
       "      <td>1967</td>\n",
       "      <td>9</td>\n",
       "      <td>1</td>\n",
       "      <td>MKE</td>\n",
       "      <td>DTW</td>\n",
       "      <td>19</td>\n",
       "      <td>0</td>\n",
       "    </tr>\n",
       "    <tr>\n",
       "      <th>1313311</th>\n",
       "      <td>1998</td>\n",
       "      <td>7</td>\n",
       "      <td>5</td>\n",
       "      <td>TPA</td>\n",
       "      <td>IAD</td>\n",
       "      <td>09</td>\n",
       "      <td>0</td>\n",
       "    </tr>\n",
       "  </tbody>\n",
       "</table>\n",
       "<p>340316 rows × 7 columns</p>\n",
       "</div>"
      ],
      "text/plain": [
       "           Age  Month  DayOfWeek Origin Dest Time  Delays\n",
       "4088545   2000      7          5    LGA  MYR   09       1\n",
       "14627742  2001      7          2    SAT  IAH   19       1\n",
       "15970102  2005      6          4    LIT  DFW   16       1\n",
       "10395457  1988      1          6    PHX  RNO   20       0\n",
       "4136706   2003      9          7    CVG  GSP   21       1\n",
       "...        ...    ...        ...    ...  ...  ...     ...\n",
       "16287542  2005      6          6    FLL  BOS   11       1\n",
       "5422928   1996      4          7    CIC  SFO   14       1\n",
       "11390932  2001      5          7    ORD  HSV   07       0\n",
       "3128827   1967      9          1    MKE  DTW   19       0\n",
       "1313311   1998      7          5    TPA  IAD   09       0\n",
       "\n",
       "[340316 rows x 7 columns]"
      ]
     },
     "execution_count": 27,
     "metadata": {},
     "output_type": "execute_result"
    }
   ],
   "source": [
    "combine_data= combine_data.rename(columns= {'year':'Age'})\n",
    "features = ['Age','Month','DayOfWeek','Origin','Dest','Time','Delays']\n",
    "X = combine_data[features].copy()\n",
    "X=X.dropna()\n",
    "Y = X['Delays']\n",
    "X"
   ]
  },
  {
   "cell_type": "markdown",
   "metadata": {},
   "source": [
    "Pipelines: Pre-Processing"
   ]
  },
  {
   "cell_type": "code",
   "execution_count": 29,
   "metadata": {},
   "outputs": [],
   "source": [
    "numerical_features =  ['Month','DayOfWeek','Time']\n",
    "\n",
    "numerical_transformer = Pipeline(steps=[  \n",
    "    ('imputer', SimpleImputer()),     \n",
    "    ('scaler', StandardScaler())])      # Apply StandardScaler() into pipeline\n",
    "\n",
    "categorical_features = ['Origin', 'Dest']\n",
    "\n",
    "categorical_transformer = Pipeline(steps=[\n",
    "    ('imputer', SimpleImputer()),  \n",
    "    ('onehot', OneHotEncoder(handle_unknown='ignore'))])    # Create dummy variables\n",
    "\n",
    "data_transformer = ColumnTransformer(\n",
    "    transformers=[\n",
    "        ('numerical', numerical_transformer, numerical_features),\n",
    "        ('categorical', categorical_transformer, categorical_features)])"
   ]
  },
  {
   "cell_type": "markdown",
   "metadata": {},
   "source": [
    "Getting training and test sets"
   ]
  },
  {
   "cell_type": "code",
   "execution_count": 30,
   "metadata": {},
   "outputs": [],
   "source": [
    "X_train, X_test, Y_train, Y_test = train_test_split(X, Y, test_size=0.5, random_state=1)"
   ]
  },
  {
   "cell_type": "code",
   "execution_count": 31,
   "metadata": {},
   "outputs": [],
   "source": [
    "param_grid = {\n",
    "    'data_transformer__numerical__imputer__strategy': ['mean','median'],\n",
    "    'data_transformer__categorical__imputer__strategy': ['constant','most_frequent']\n",
    "}"
   ]
  },
  {
   "cell_type": "markdown",
   "metadata": {},
   "source": [
    "Pipelines: Logistic Regression"
   ]
  },
  {
   "cell_type": "code",
   "execution_count": 32,
   "metadata": {},
   "outputs": [],
   "source": [
    "pipe_lr = Pipeline(steps=[('data_transformer', data_transformer),\n",
    "                          ('pipe_lr', LogisticRegression(max_iter=10000))])\n",
    "grid_lr = GridSearchCV(pipe_lr, param_grid=param_grid)\n",
    "grid_lr.fit(X_train, Y_train);                          "
   ]
  },
  {
   "cell_type": "markdown",
   "metadata": {},
   "source": [
    "Pipelines: Gradient Boosting"
   ]
  },
  {
   "cell_type": "code",
   "execution_count": 33,
   "metadata": {},
   "outputs": [],
   "source": [
    "pipe_gdb = Pipeline(steps=[('data_transformer', data_transformer),\n",
    "                           ('pipe_gdb', GradientBoostingClassifier(random_state=2))])\n",
    "\n",
    "grid_gdb = GridSearchCV(pipe_gdb, param_grid=param_grid)\n",
    "grid_gdb.fit(X_train, Y_train);"
   ]
  },
  {
   "cell_type": "markdown",
   "metadata": {},
   "source": [
    "Pipelines: Penalize logistic regression"
   ]
  },
  {
   "cell_type": "code",
   "execution_count": 35,
   "metadata": {},
   "outputs": [],
   "source": [
    "pipe_plr = Pipeline(steps=[('data_transformer', data_transformer),\n",
    "                          ('pipe_plr', LogisticRegression(penalty='l1',max_iter=10000, tol=0.01, solver='saga'))])\n",
    "grid_plr = GridSearchCV(pipe_plr, param_grid=param_grid)\n",
    "grid_plr.fit(X_train, Y_train);  "
   ]
  },
  {
   "cell_type": "markdown",
   "metadata": {},
   "source": [
    "Pipelines: Classification tree"
   ]
  },
  {
   "cell_type": "code",
   "execution_count": 38,
   "metadata": {},
   "outputs": [],
   "source": [
    "pipe_tree = Pipeline(steps=[('data_transformer', data_transformer),\n",
    "                          ('pipe_tree', DecisionTreeClassifier(random_state=0))])\n",
    "grid_tree = GridSearchCV(pipe_tree, param_grid=param_grid)\n",
    "grid_tree.fit(X_train, Y_train);  "
   ]
  },
  {
   "cell_type": "markdown",
   "metadata": {},
   "source": [
    "Pipelines: Random forest"
   ]
  },
  {
   "cell_type": "code",
   "execution_count": 44,
   "metadata": {},
   "outputs": [],
   "source": [
    "pipe_rf = Pipeline(steps=[('data_transformer', data_transformer),\n",
    "                          ('pipe_rf', RandomForestClassifier(random_state=0))])\n",
    "grid_rf = GridSearchCV(pipe_rf, param_grid=param_grid)\n",
    "grid_rf.fit(X_train, Y_train);  "
   ]
  },
  {
   "cell_type": "markdown",
   "metadata": {},
   "source": [
    "Plot the ROC Curve"
   ]
  },
  {
   "cell_type": "code",
   "execution_count": 45,
   "metadata": {},
   "outputs": [
    {
     "name": "stderr",
     "output_type": "stream",
     "text": [
      "/Library/Frameworks/Python.framework/Versions/3.9/lib/python3.9/site-packages/sklearn/utils/deprecation.py:87: FutureWarning: Function plot_roc_curve is deprecated; Function :func:`plot_roc_curve` is deprecated in 1.0 and will be removed in 1.2. Use one of the class methods: :meth:`sklearn.metric.RocCurveDisplay.from_predictions` or :meth:`sklearn.metric.RocCurveDisplay.from_estimator`.\n",
      "  warnings.warn(msg, category=FutureWarning)\n",
      "/Library/Frameworks/Python.framework/Versions/3.9/lib/python3.9/site-packages/sklearn/utils/deprecation.py:87: FutureWarning: Function plot_roc_curve is deprecated; Function :func:`plot_roc_curve` is deprecated in 1.0 and will be removed in 1.2. Use one of the class methods: :meth:`sklearn.metric.RocCurveDisplay.from_predictions` or :meth:`sklearn.metric.RocCurveDisplay.from_estimator`.\n",
      "  warnings.warn(msg, category=FutureWarning)\n",
      "/Library/Frameworks/Python.framework/Versions/3.9/lib/python3.9/site-packages/sklearn/utils/deprecation.py:87: FutureWarning: Function plot_roc_curve is deprecated; Function :func:`plot_roc_curve` is deprecated in 1.0 and will be removed in 1.2. Use one of the class methods: :meth:`sklearn.metric.RocCurveDisplay.from_predictions` or :meth:`sklearn.metric.RocCurveDisplay.from_estimator`.\n",
      "  warnings.warn(msg, category=FutureWarning)\n",
      "/Library/Frameworks/Python.framework/Versions/3.9/lib/python3.9/site-packages/sklearn/utils/deprecation.py:87: FutureWarning: Function plot_roc_curve is deprecated; Function :func:`plot_roc_curve` is deprecated in 1.0 and will be removed in 1.2. Use one of the class methods: :meth:`sklearn.metric.RocCurveDisplay.from_predictions` or :meth:`sklearn.metric.RocCurveDisplay.from_estimator`.\n",
      "  warnings.warn(msg, category=FutureWarning)\n",
      "/Library/Frameworks/Python.framework/Versions/3.9/lib/python3.9/site-packages/sklearn/utils/deprecation.py:87: FutureWarning: Function plot_roc_curve is deprecated; Function :func:`plot_roc_curve` is deprecated in 1.0 and will be removed in 1.2. Use one of the class methods: :meth:`sklearn.metric.RocCurveDisplay.from_predictions` or :meth:`sklearn.metric.RocCurveDisplay.from_estimator`.\n",
      "  warnings.warn(msg, category=FutureWarning)\n"
     ]
    },
    {
     "data": {
      "image/png": "[encoded data removed]",
      "text/plain": [
       "<Figure size 432x288 with 1 Axes>"
      ]
     },
     "metadata": {
      "needs_background": "light"
     },
     "output_type": "display_data"
    }
   ],
   "source": [
    "ax= plt.gca()\n",
    "plot_roc_curve(grid_lr,X_test,Y_test,ax=ax, name='Logistic Regression')\n",
    "plot_roc_curve(grid_gdb,X_test,Y_test,ax=ax, name='Graient Boosting')\n",
    "plot_roc_curve(grid_plr,X_test,Y_test,ax=ax, name='Penalised Logistic Regression')\n",
    "plot_roc_curve(grid_tree,X_test,Y_test,ax=ax, name='Classification Tree')\n",
    "plot_roc_curve(grid_rf,X_test,Y_test,ax=ax, name='Random Forests')\n",
    "plt.plot([0,1],[0,1], color='black', lw=1, linestyle='--')\n",
    "plt.show()"
   ]
  }
 ],
 "metadata": {
  "interpreter": {
   "hash": "aee8b7b246df8f9039afb4144a1f6fd8d2ca17a180786b69acc140d282b71a49"
  },
  "kernelspec": {
   "display_name": "Python 3.9.5 64-bit",
   "language": "python",
   "name": "python3"
  },
  "language_info": {
   "codemirror_mode": {
    "name": "ipython",
    "version": 3
   },
   "file_extension": ".py",
   "mimetype": "text/x-python",
   "name": "python",
   "nbconvert_exporter": "python",
   "pygments_lexer": "ipython3",
   "version": "3.9.5"
  },
  "orig_nbformat": 4
 },
 "nbformat": 4,
 "nbformat_minor": 2
}
